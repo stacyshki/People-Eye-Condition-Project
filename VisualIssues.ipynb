{
 "cells": [
  {
   "cell_type": "markdown",
   "metadata": {},
   "source": [
    "<h2>Part I: Eye conditions and diseases among people</h2>\n",
    "<br></br>\n",
    "<h3>Introduction</h3>\n",
    "<p>Eye-related conditions and diseases encompass a wide range of disorders that affect vision and overall eye health. These conditions, from common issues like refractive errors and cataracts to complex diseases such as glaucoma and age-related macular degeneration, can significantly impact quality of life. Early detection, diagnosis, and advancements in research are crucial for effective treatment and prevention, highlighting the importance of continuous study in the field of ophthalmology.</p>\n",
    "<br></br>\n",
    "<h3>Data set</h3>"
   ]
  },
  {
   "cell_type": "code",
   "execution_count": 2,
   "metadata": {},
   "outputs": [
    {
     "data": {
      "text/html": [
       "<div>\n",
       "<style scoped>\n",
       "    .dataframe tbody tr th:only-of-type {\n",
       "        vertical-align: middle;\n",
       "    }\n",
       "\n",
       "    .dataframe tbody tr th {\n",
       "        vertical-align: top;\n",
       "    }\n",
       "\n",
       "    .dataframe thead th {\n",
       "        text-align: right;\n",
       "    }\n",
       "</style>\n",
       "<table border=\"1\" class=\"dataframe\">\n",
       "  <thead>\n",
       "    <tr style=\"text-align: right;\">\n",
       "      <th></th>\n",
       "      <th>id_record</th>\n",
       "      <th>date</th>\n",
       "      <th>age_years</th>\n",
       "      <th>sex</th>\n",
       "      <th>diagnosis1</th>\n",
       "      <th>diagnosis2</th>\n",
       "      <th>diagnosis3</th>\n",
       "      <th>va_re_logMar</th>\n",
       "      <th>va_le_logMar</th>\n",
       "      <th>unilateral</th>\n",
       "      <th>rep_record</th>\n",
       "      <th>comments</th>\n",
       "    </tr>\n",
       "  </thead>\n",
       "  <tbody>\n",
       "    <tr>\n",
       "      <th>0</th>\n",
       "      <td>1</td>\n",
       "      <td>2016-09-15</td>\n",
       "      <td>13</td>\n",
       "      <td>Male</td>\n",
       "      <td>Normal</td>\n",
       "      <td>NaN</td>\n",
       "      <td>NaN</td>\n",
       "      <td>-0.08</td>\n",
       "      <td>0.06</td>\n",
       "      <td>NaN</td>\n",
       "      <td>NaN</td>\n",
       "      <td>NaN</td>\n",
       "    </tr>\n",
       "    <tr>\n",
       "      <th>1</th>\n",
       "      <td>2</td>\n",
       "      <td>2005-09-15</td>\n",
       "      <td>13</td>\n",
       "      <td>Female</td>\n",
       "      <td>Congenital stationary night blindness</td>\n",
       "      <td>NaN</td>\n",
       "      <td>NaN</td>\n",
       "      <td>0.18</td>\n",
       "      <td>0.16</td>\n",
       "      <td>NaN</td>\n",
       "      <td>NaN</td>\n",
       "      <td>NaN</td>\n",
       "    </tr>\n",
       "    <tr>\n",
       "      <th>2</th>\n",
       "      <td>3</td>\n",
       "      <td>2019-08-08</td>\n",
       "      <td>49</td>\n",
       "      <td>Female</td>\n",
       "      <td>Orbital ischemia</td>\n",
       "      <td>Systemic disorder with ocular manifestations</td>\n",
       "      <td>NaN</td>\n",
       "      <td>0.26</td>\n",
       "      <td>0.00</td>\n",
       "      <td>NaN</td>\n",
       "      <td>Id:0329 - Id:0154 - Id:0049 - Id:0271</td>\n",
       "      <td>NaN</td>\n",
       "    </tr>\n",
       "    <tr>\n",
       "      <th>3</th>\n",
       "      <td>4</td>\n",
       "      <td>2004-12-16</td>\n",
       "      <td>43</td>\n",
       "      <td>Female</td>\n",
       "      <td>Retinitis pigmentosa</td>\n",
       "      <td>NaN</td>\n",
       "      <td>NaN</td>\n",
       "      <td>NaN</td>\n",
       "      <td>NaN</td>\n",
       "      <td>NaN</td>\n",
       "      <td>NaN</td>\n",
       "      <td>NaN</td>\n",
       "    </tr>\n",
       "    <tr>\n",
       "      <th>4</th>\n",
       "      <td>5</td>\n",
       "      <td>2016-07-13</td>\n",
       "      <td>47</td>\n",
       "      <td>Female</td>\n",
       "      <td>Normal</td>\n",
       "      <td>NaN</td>\n",
       "      <td>NaN</td>\n",
       "      <td>0.10</td>\n",
       "      <td>0.10</td>\n",
       "      <td>NaN</td>\n",
       "      <td>NaN</td>\n",
       "      <td>NaN</td>\n",
       "    </tr>\n",
       "    <tr>\n",
       "      <th>...</th>\n",
       "      <td>...</td>\n",
       "      <td>...</td>\n",
       "      <td>...</td>\n",
       "      <td>...</td>\n",
       "      <td>...</td>\n",
       "      <td>...</td>\n",
       "      <td>...</td>\n",
       "      <td>...</td>\n",
       "      <td>...</td>\n",
       "      <td>...</td>\n",
       "      <td>...</td>\n",
       "      <td>...</td>\n",
       "    </tr>\n",
       "    <tr>\n",
       "      <th>299</th>\n",
       "      <td>330</td>\n",
       "      <td>2003-07-16</td>\n",
       "      <td>43</td>\n",
       "      <td>Female</td>\n",
       "      <td>Normal</td>\n",
       "      <td>NaN</td>\n",
       "      <td>NaN</td>\n",
       "      <td>NaN</td>\n",
       "      <td>NaN</td>\n",
       "      <td>NaN</td>\n",
       "      <td>NaN</td>\n",
       "      <td>Alteration in visual acuity</td>\n",
       "    </tr>\n",
       "    <tr>\n",
       "      <th>300</th>\n",
       "      <td>332</td>\n",
       "      <td>2016-11-17</td>\n",
       "      <td>43</td>\n",
       "      <td>Male</td>\n",
       "      <td>Autoimmune retinopathy</td>\n",
       "      <td>Inflammatory disease</td>\n",
       "      <td>NaN</td>\n",
       "      <td>0.02</td>\n",
       "      <td>0.00</td>\n",
       "      <td>NaN</td>\n",
       "      <td>Id:0221 - Id:0252 - Id:0126</td>\n",
       "      <td>NaN</td>\n",
       "    </tr>\n",
       "    <tr>\n",
       "      <th>301</th>\n",
       "      <td>333</td>\n",
       "      <td>2015-01-14</td>\n",
       "      <td>4</td>\n",
       "      <td>Male</td>\n",
       "      <td>X linked retinoschisis</td>\n",
       "      <td>NaN</td>\n",
       "      <td>NaN</td>\n",
       "      <td>1.00</td>\n",
       "      <td>0.52</td>\n",
       "      <td>NaN</td>\n",
       "      <td>NaN</td>\n",
       "      <td>NaN</td>\n",
       "    </tr>\n",
       "    <tr>\n",
       "      <th>302</th>\n",
       "      <td>334</td>\n",
       "      <td>2021-08-28</td>\n",
       "      <td>14</td>\n",
       "      <td>Male</td>\n",
       "      <td>Normal</td>\n",
       "      <td>NaN</td>\n",
       "      <td>NaN</td>\n",
       "      <td>-0.10</td>\n",
       "      <td>-0.06</td>\n",
       "      <td>NaN</td>\n",
       "      <td>NaN</td>\n",
       "      <td>Family history of chorioretinopathy</td>\n",
       "    </tr>\n",
       "    <tr>\n",
       "      <th>303</th>\n",
       "      <td>336</td>\n",
       "      <td>2003-12-04</td>\n",
       "      <td>8</td>\n",
       "      <td>Female</td>\n",
       "      <td>Normal</td>\n",
       "      <td>NaN</td>\n",
       "      <td>NaN</td>\n",
       "      <td>0.00</td>\n",
       "      <td>0.00</td>\n",
       "      <td>NaN</td>\n",
       "      <td>Id:0196</td>\n",
       "      <td>NaN</td>\n",
       "    </tr>\n",
       "  </tbody>\n",
       "</table>\n",
       "<p>304 rows × 12 columns</p>\n",
       "</div>"
      ],
      "text/plain": [
       "     id_record        date  age_years     sex  \\\n",
       "0            1  2016-09-15         13    Male   \n",
       "1            2  2005-09-15         13  Female   \n",
       "2            3  2019-08-08         49  Female   \n",
       "3            4  2004-12-16         43  Female   \n",
       "4            5  2016-07-13         47  Female   \n",
       "..         ...         ...        ...     ...   \n",
       "299        330  2003-07-16         43  Female   \n",
       "300        332  2016-11-17         43    Male   \n",
       "301        333  2015-01-14          4    Male   \n",
       "302        334  2021-08-28         14    Male   \n",
       "303        336  2003-12-04          8  Female   \n",
       "\n",
       "                                diagnosis1  \\\n",
       "0                                   Normal   \n",
       "1    Congenital stationary night blindness   \n",
       "2                         Orbital ischemia   \n",
       "3                     Retinitis pigmentosa   \n",
       "4                                   Normal   \n",
       "..                                     ...   \n",
       "299                                 Normal   \n",
       "300                 Autoimmune retinopathy   \n",
       "301                 X linked retinoschisis   \n",
       "302                                 Normal   \n",
       "303                                 Normal   \n",
       "\n",
       "                                       diagnosis2 diagnosis3  va_re_logMar  \\\n",
       "0                                             NaN        NaN         -0.08   \n",
       "1                                             NaN        NaN          0.18   \n",
       "2    Systemic disorder with ocular manifestations        NaN          0.26   \n",
       "3                                             NaN        NaN           NaN   \n",
       "4                                             NaN        NaN          0.10   \n",
       "..                                            ...        ...           ...   \n",
       "299                                           NaN        NaN           NaN   \n",
       "300                          Inflammatory disease        NaN          0.02   \n",
       "301                                           NaN        NaN          1.00   \n",
       "302                                           NaN        NaN         -0.10   \n",
       "303                                           NaN        NaN          0.00   \n",
       "\n",
       "     va_le_logMar unilateral                             rep_record  \\\n",
       "0            0.06        NaN                                    NaN   \n",
       "1            0.16        NaN                                    NaN   \n",
       "2            0.00        NaN  Id:0329 - Id:0154 - Id:0049 - Id:0271   \n",
       "3             NaN        NaN                                    NaN   \n",
       "4            0.10        NaN                                    NaN   \n",
       "..            ...        ...                                    ...   \n",
       "299           NaN        NaN                                    NaN   \n",
       "300          0.00        NaN            Id:0221 - Id:0252 - Id:0126   \n",
       "301          0.52        NaN                                    NaN   \n",
       "302         -0.06        NaN                                    NaN   \n",
       "303          0.00        NaN                                Id:0196   \n",
       "\n",
       "                                comments  \n",
       "0                                    NaN  \n",
       "1                                    NaN  \n",
       "2                                    NaN  \n",
       "3                                    NaN  \n",
       "4                                    NaN  \n",
       "..                                   ...  \n",
       "299          Alteration in visual acuity  \n",
       "300                                  NaN  \n",
       "301                                  NaN  \n",
       "302  Family history of chorioretinopathy  \n",
       "303                                  NaN  \n",
       "\n",
       "[304 rows x 12 columns]"
      ]
     },
     "execution_count": 2,
     "metadata": {},
     "output_type": "execute_result"
    }
   ],
   "source": [
    "from pandas import read_csv\n",
    "import numpy as np\n",
    "\n",
    "skip = [48,89,95,108,111,126,146,149,153,156,160,163,172,175,187,220,230,251,255,258,263,267,269,270,289,291,299,318,323,328,331,335] # rows where 1 subject participated multiple times according to the authors' words\n",
    "\n",
    "data = read_csv('participants_info.csv', usecols=['age_years', 'sex', 'diagnosis1', 'diagnosis2', 'diagnosis3'], skiprows=skip)\n",
    "read_csv('participants_info.csv', skiprows=skip)"
   ]
  },
  {
   "cell_type": "markdown",
   "metadata": {},
   "source": [
    "<h2>Comments on data before describing it</h2>\n",
    "<p>The data provides a very wide information on observations upon people's eyesight, and this gives us a plenty of interpretations we can extract from the set.</p>\n",
    "<br></br>\n",
    "<h2>Data Selection</h2>\n",
    "<p>The dataset comprises information collected from 304 subjects enrolled at IOBA, a University of Valladolid-affiliated institution in Spain. The data collection spanned an extensive period, starting from 2003 and continuing until 2022. During this extended timeframe, 23 individuals had multiple visits: 19 individuals had two visits each, 1 individual had three, another had four visits and two subjects had five visits each. As a part of the routine clinical evaluation, all subjects underwent diagnosis by ophthalmology specialists. In this particular research multiple visits are not counted.</p>\n",
    "<h2>Describing data</h2>\n",
    "<h4>Population</h4>\n",
    "<p>The participants are people from  Valladolid, Spain, who participated in the research from 2003 to 2022</p>\n",
    "<h4>Size</h4>\n",
    "<p>304 people</p>\n",
    "<h4>Data description</h4>\n",
    "<p>The data gives us a lot of information from sex and age to the number of visits. However, the main focus is on the age of the participant, their sex and whether their eyesight is normal or they have a certain number of diseases.</p>\n",
    "<h4>Variables:</h4>\n",
    "<h5>Variable AGE</h5>\n",
    "<p>Variable name: AGE</p>\n",
    "<p>Variable description: the variable is the age of a participant</p>\n",
    "<p>Variable type: continuous</p>\n",
    "<p>Range: [4,86]</p>\n",
    "<h5>Variable SEX</h5>\n",
    "<p>Variable name: SEX</p>\n",
    "<p>Variable description: the variable is the sex of a participant</p>\n",
    "<p>Variable type: categorical</p>\n",
    "<p>Range: [Male,Female]</p>\n",
    "<h5>Variable DISEASES</h5>\n",
    "<p>Variable name: DISEASES</p>\n",
    "<p>Variable description: the variable is the number of diseases a participant has</p>\n",
    "<p>Variable type: discrete</p>\n",
    "<p>Range: [0,3]</p>\n",
    "<br></br>\n",
    "<h2>Data for variable DISEASES</h2>\n",
    "<h4>Where does the variable come from?</h4>\n",
    "<p>The data shows the number of eye diseases for any subject. Diagnosis 'Normal' is considered as 0 diseases, others are considered 1,2 or 3 diseases if there are diagnosis1, diagnosis 2 or diagnosis3 respectfully (exception is diagnosis1: 'Normal' because it means a person has 0 eye diseases)</p>\n",
    "<h4>Displaying data</h4>"
   ]
  },
  {
   "cell_type": "code",
   "execution_count": 3,
   "metadata": {},
   "outputs": [
    {
     "data": {
      "text/html": [
       "<div>\n",
       "<style scoped>\n",
       "    .dataframe tbody tr th:only-of-type {\n",
       "        vertical-align: middle;\n",
       "    }\n",
       "\n",
       "    .dataframe tbody tr th {\n",
       "        vertical-align: top;\n",
       "    }\n",
       "\n",
       "    .dataframe thead th {\n",
       "        text-align: right;\n",
       "    }\n",
       "</style>\n",
       "<table border=\"1\" class=\"dataframe\">\n",
       "  <thead>\n",
       "    <tr style=\"text-align: right;\">\n",
       "      <th></th>\n",
       "      <th>age_years</th>\n",
       "      <th>sex</th>\n",
       "      <th>diseases</th>\n",
       "    </tr>\n",
       "  </thead>\n",
       "  <tbody>\n",
       "    <tr>\n",
       "      <th>0</th>\n",
       "      <td>13</td>\n",
       "      <td>Male</td>\n",
       "      <td>0</td>\n",
       "    </tr>\n",
       "    <tr>\n",
       "      <th>1</th>\n",
       "      <td>13</td>\n",
       "      <td>Female</td>\n",
       "      <td>1</td>\n",
       "    </tr>\n",
       "    <tr>\n",
       "      <th>2</th>\n",
       "      <td>49</td>\n",
       "      <td>Female</td>\n",
       "      <td>2</td>\n",
       "    </tr>\n",
       "    <tr>\n",
       "      <th>3</th>\n",
       "      <td>43</td>\n",
       "      <td>Female</td>\n",
       "      <td>1</td>\n",
       "    </tr>\n",
       "    <tr>\n",
       "      <th>4</th>\n",
       "      <td>47</td>\n",
       "      <td>Female</td>\n",
       "      <td>0</td>\n",
       "    </tr>\n",
       "    <tr>\n",
       "      <th>...</th>\n",
       "      <td>...</td>\n",
       "      <td>...</td>\n",
       "      <td>...</td>\n",
       "    </tr>\n",
       "    <tr>\n",
       "      <th>299</th>\n",
       "      <td>43</td>\n",
       "      <td>Female</td>\n",
       "      <td>0</td>\n",
       "    </tr>\n",
       "    <tr>\n",
       "      <th>300</th>\n",
       "      <td>43</td>\n",
       "      <td>Male</td>\n",
       "      <td>2</td>\n",
       "    </tr>\n",
       "    <tr>\n",
       "      <th>301</th>\n",
       "      <td>4</td>\n",
       "      <td>Male</td>\n",
       "      <td>1</td>\n",
       "    </tr>\n",
       "    <tr>\n",
       "      <th>302</th>\n",
       "      <td>14</td>\n",
       "      <td>Male</td>\n",
       "      <td>0</td>\n",
       "    </tr>\n",
       "    <tr>\n",
       "      <th>303</th>\n",
       "      <td>8</td>\n",
       "      <td>Female</td>\n",
       "      <td>0</td>\n",
       "    </tr>\n",
       "  </tbody>\n",
       "</table>\n",
       "<p>304 rows × 3 columns</p>\n",
       "</div>"
      ],
      "text/plain": [
       "     age_years     sex diseases\n",
       "0           13    Male        0\n",
       "1           13  Female        1\n",
       "2           49  Female        2\n",
       "3           43  Female        1\n",
       "4           47  Female        0\n",
       "..         ...     ...      ...\n",
       "299         43  Female        0\n",
       "300         43    Male        2\n",
       "301          4    Male        1\n",
       "302         14    Male        0\n",
       "303          8  Female        0\n",
       "\n",
       "[304 rows x 3 columns]"
      ]
     },
     "execution_count": 3,
     "metadata": {},
     "output_type": "execute_result"
    }
   ],
   "source": [
    "data_diseases = data[['diagnosis1','diagnosis2','diagnosis3']].copy()\n",
    "data_diseases.fillna(0, inplace=True)\n",
    "x = np.array(data_diseases)\n",
    "x[x == 'Normal'] = 0\n",
    "x[x !=0] = 1\n",
    "y = np.sum(x, axis = 1)\n",
    "data['diseases'] = y\n",
    "data = data[['age_years','sex','diseases']]\n",
    "data.to_csv('newData.csv', index = False)\n",
    "data"
   ]
  },
  {
   "cell_type": "markdown",
   "metadata": {},
   "source": [
    "<h2>Why is the data relevant?</h2>\n",
    "<p>The set has many observations (300+). The set has a lot of columns, so it has much statistical series, which helps to identify the information, which is going to be to extracted clearly. The records were produced by the IOBA, a University of Valladolid-affiliated institution in Spain, so we can trust the source. All these make the conditions to observe the data sufficient.</p>\n",
    "<br></br>\n",
    "<h2>Flat view of the first lines (displayed below for convenience)</h2>"
   ]
  },
  {
   "cell_type": "code",
   "execution_count": 4,
   "metadata": {},
   "outputs": [
    {
     "data": {
      "text/html": [
       "<div>\n",
       "<style scoped>\n",
       "    .dataframe tbody tr th:only-of-type {\n",
       "        vertical-align: middle;\n",
       "    }\n",
       "\n",
       "    .dataframe tbody tr th {\n",
       "        vertical-align: top;\n",
       "    }\n",
       "\n",
       "    .dataframe thead th {\n",
       "        text-align: right;\n",
       "    }\n",
       "</style>\n",
       "<table border=\"1\" class=\"dataframe\">\n",
       "  <thead>\n",
       "    <tr style=\"text-align: right;\">\n",
       "      <th></th>\n",
       "      <th>age_years</th>\n",
       "      <th>sex</th>\n",
       "      <th>diseases</th>\n",
       "    </tr>\n",
       "  </thead>\n",
       "  <tbody>\n",
       "    <tr>\n",
       "      <th>0</th>\n",
       "      <td>13</td>\n",
       "      <td>Male</td>\n",
       "      <td>0</td>\n",
       "    </tr>\n",
       "    <tr>\n",
       "      <th>1</th>\n",
       "      <td>13</td>\n",
       "      <td>Female</td>\n",
       "      <td>1</td>\n",
       "    </tr>\n",
       "    <tr>\n",
       "      <th>2</th>\n",
       "      <td>49</td>\n",
       "      <td>Female</td>\n",
       "      <td>2</td>\n",
       "    </tr>\n",
       "    <tr>\n",
       "      <th>3</th>\n",
       "      <td>43</td>\n",
       "      <td>Female</td>\n",
       "      <td>1</td>\n",
       "    </tr>\n",
       "    <tr>\n",
       "      <th>4</th>\n",
       "      <td>47</td>\n",
       "      <td>Female</td>\n",
       "      <td>0</td>\n",
       "    </tr>\n",
       "    <tr>\n",
       "      <th>5</th>\n",
       "      <td>20</td>\n",
       "      <td>Male</td>\n",
       "      <td>1</td>\n",
       "    </tr>\n",
       "    <tr>\n",
       "      <th>6</th>\n",
       "      <td>43</td>\n",
       "      <td>Male</td>\n",
       "      <td>0</td>\n",
       "    </tr>\n",
       "    <tr>\n",
       "      <th>7</th>\n",
       "      <td>10</td>\n",
       "      <td>Female</td>\n",
       "      <td>3</td>\n",
       "    </tr>\n",
       "    <tr>\n",
       "      <th>8</th>\n",
       "      <td>13</td>\n",
       "      <td>Male</td>\n",
       "      <td>1</td>\n",
       "    </tr>\n",
       "    <tr>\n",
       "      <th>9</th>\n",
       "      <td>35</td>\n",
       "      <td>Female</td>\n",
       "      <td>1</td>\n",
       "    </tr>\n",
       "  </tbody>\n",
       "</table>\n",
       "</div>"
      ],
      "text/plain": [
       "   age_years     sex diseases\n",
       "0         13    Male        0\n",
       "1         13  Female        1\n",
       "2         49  Female        2\n",
       "3         43  Female        1\n",
       "4         47  Female        0\n",
       "5         20    Male        1\n",
       "6         43    Male        0\n",
       "7         10  Female        3\n",
       "8         13    Male        1\n",
       "9         35  Female        1"
      ]
     },
     "execution_count": 4,
     "metadata": {},
     "output_type": "execute_result"
    }
   ],
   "source": [
    "data[:10]"
   ]
  },
  {
   "cell_type": "markdown",
   "metadata": {},
   "source": [
    "<p>As we see from the data, we have participants of different age and sex. Some of them have a normal eyesight, some have up to 3 diseases. The data is not processed, and we cannot make any conclusions for the time now, but we see that the observations are satisfying in terms of information.</p>\n",
    "<br></br>\n",
    "<h2>Source of data</h2>\n",
    "<h4>Title of the publication</h4>\n",
    "<p>A Comprehensive Dataset of Pattern Electroretinograms for Ocular Electrophysiology Research: The PERG-IOBA Dataset</p>\n",
    "<h4>Link</h4>\n",
    "<p>https://doi.org/10.13026/d24m-w054.</p>\n",
    "<h4>Authors and theme</h4>\n",
    "<p>Fernández, I., Cuadrado Asensio, R., Larriba, Y., Rueda, C., & Coco-Martin, R. M. (2024). A Comprehensive Dataset of Pattern Electroretinograms for Ocular Electrophysiology Research: The PERG-IOBA Dataset (version 1.0.0). PhysioNet.</p>\n",
    "<h4>Also standard citation for PhysioNet</h4>\n",
    "<p>Goldberger, A., Amaral, L., Glass, L., Hausdorff, J., Ivanov, P. C., Mark, R., ... & Stanley, H. E. (2000). PhysioBank, PhysioToolkit, and PhysioNet: Components of a new research resource for complex physiologic signals. Circulation [Online]. 101 (23), pp. e215–e220.</p>\n",
    "<h4>Publication</h4>\n",
    "<p>Published: Jan. 19, 2024. Version: 1.0.0</p>\n"
   ]
  },
  {
   "cell_type": "markdown",
   "metadata": {},
   "source": [
    "<br></br>\n",
    "<br></br>\n",
    "<h2>Part II: Analysis of the variables introduced and described in Part I</h2>"
   ]
  },
  {
   "cell_type": "code",
   "execution_count": 5,
   "metadata": {},
   "outputs": [
    {
     "data": {
      "text/html": [
       "<div>\n",
       "<style scoped>\n",
       "    .dataframe tbody tr th:only-of-type {\n",
       "        vertical-align: middle;\n",
       "    }\n",
       "\n",
       "    .dataframe tbody tr th {\n",
       "        vertical-align: top;\n",
       "    }\n",
       "\n",
       "    .dataframe thead th {\n",
       "        text-align: right;\n",
       "    }\n",
       "</style>\n",
       "<table border=\"1\" class=\"dataframe\">\n",
       "  <thead>\n",
       "    <tr style=\"text-align: right;\">\n",
       "      <th></th>\n",
       "      <th>age_years</th>\n",
       "      <th>sex</th>\n",
       "      <th>diseases</th>\n",
       "    </tr>\n",
       "  </thead>\n",
       "  <tbody>\n",
       "    <tr>\n",
       "      <th>0</th>\n",
       "      <td>13</td>\n",
       "      <td>Male</td>\n",
       "      <td>0</td>\n",
       "    </tr>\n",
       "    <tr>\n",
       "      <th>1</th>\n",
       "      <td>13</td>\n",
       "      <td>Female</td>\n",
       "      <td>1</td>\n",
       "    </tr>\n",
       "    <tr>\n",
       "      <th>2</th>\n",
       "      <td>49</td>\n",
       "      <td>Female</td>\n",
       "      <td>2</td>\n",
       "    </tr>\n",
       "    <tr>\n",
       "      <th>3</th>\n",
       "      <td>43</td>\n",
       "      <td>Female</td>\n",
       "      <td>1</td>\n",
       "    </tr>\n",
       "    <tr>\n",
       "      <th>4</th>\n",
       "      <td>47</td>\n",
       "      <td>Female</td>\n",
       "      <td>0</td>\n",
       "    </tr>\n",
       "  </tbody>\n",
       "</table>\n",
       "</div>"
      ],
      "text/plain": [
       "   age_years     sex  diseases\n",
       "0         13    Male         0\n",
       "1         13  Female         1\n",
       "2         49  Female         2\n",
       "3         43  Female         1\n",
       "4         47  Female         0"
      ]
     },
     "execution_count": 5,
     "metadata": {},
     "output_type": "execute_result"
    }
   ],
   "source": [
    "import pandas as pd\n",
    "import numpy as np\n",
    "from scipy.stats import kurtosis, skew\n",
    "from scipy import stats\n",
    "\n",
    "data = pd.read_csv('newData.csv')\n",
    "data.head()"
   ]
  },
  {
   "cell_type": "markdown",
   "metadata": {},
   "source": [
    "<h2>Analyzing variable SEX</h2>"
   ]
  },
  {
   "cell_type": "code",
   "execution_count": 6,
   "metadata": {},
   "outputs": [
    {
     "data": {
      "text/html": [
       "<div>\n",
       "<style scoped>\n",
       "    .dataframe tbody tr th:only-of-type {\n",
       "        vertical-align: middle;\n",
       "    }\n",
       "\n",
       "    .dataframe tbody tr th {\n",
       "        vertical-align: top;\n",
       "    }\n",
       "\n",
       "    .dataframe thead th {\n",
       "        text-align: right;\n",
       "    }\n",
       "</style>\n",
       "<table border=\"1\" class=\"dataframe\">\n",
       "  <thead>\n",
       "    <tr style=\"text-align: right;\">\n",
       "      <th></th>\n",
       "      <th>frequency</th>\n",
       "      <th>relative frequency</th>\n",
       "    </tr>\n",
       "  </thead>\n",
       "  <tbody>\n",
       "    <tr>\n",
       "      <th>Female</th>\n",
       "      <td>155.0</td>\n",
       "      <td>0.509868</td>\n",
       "    </tr>\n",
       "    <tr>\n",
       "      <th>Male</th>\n",
       "      <td>149.0</td>\n",
       "      <td>0.490132</td>\n",
       "    </tr>\n",
       "  </tbody>\n",
       "</table>\n",
       "</div>"
      ],
      "text/plain": [
       "        frequency  relative frequency\n",
       "Female      155.0            0.509868\n",
       "Male        149.0            0.490132"
      ]
     },
     "execution_count": 6,
     "metadata": {},
     "output_type": "execute_result"
    }
   ],
   "source": [
    "x = np.array(data['sex'])\n",
    "levels, ni = np.unique(x, return_counts=True)\n",
    "n = sum(ni)\n",
    "fi = ni/n\n",
    "ft_sex = pd.DataFrame(data=np.transpose([ni,fi]),index=levels,columns=['frequency', 'relative frequency'])\n",
    "ft_sex.to_csv('table_sex.csv')\n",
    "ft_sex"
   ]
  },
  {
   "cell_type": "code",
   "execution_count": 7,
   "metadata": {},
   "outputs": [
    {
     "data": {
      "image/png": "[encoded data removed]",
      "text/plain": [
       "<Figure size 640x480 with 1 Axes>"
      ]
     },
     "metadata": {},
     "output_type": "display_data"
    }
   ],
   "source": [
    "import matplotlib.pyplot as plt\n",
    "plt.barh(ft_sex.index, fi)\n",
    "plt.xlabel('relative frequency')\n",
    "plt.show()"
   ]
  },
  {
   "cell_type": "code",
   "execution_count": 8,
   "metadata": {},
   "outputs": [
    {
     "data": {
      "image/png": "[encoded data removed]",
      "text/plain": [
       "<Figure size 640x480 with 1 Axes>"
      ]
     },
     "metadata": {},
     "output_type": "display_data"
    }
   ],
   "source": [
    "plt.pie(ni, labels = ft_sex.index, autopct='%1.1f%%')\n",
    "plt.show()"
   ]
  },
  {
   "cell_type": "code",
   "execution_count": 9,
   "metadata": {},
   "outputs": [
    {
     "data": {
      "text/plain": [
       "'The mode is Female'"
      ]
     },
     "execution_count": 9,
     "metadata": {},
     "output_type": "execute_result"
    }
   ],
   "source": [
    "f'The mode is {levels[np.argmax(ni)]}'"
   ]
  },
  {
   "cell_type": "markdown",
   "metadata": {},
   "source": [
    "<h2>Interpretation</h2>\n",
    "<p>As evident from the table and graphical representations, the proportions of male and female subjects in the analysis are nearly equal, with females making up a slight majority, being just 2% more prevalent.</p>"
   ]
  },
  {
   "cell_type": "markdown",
   "metadata": {},
   "source": [
    "<br></br>\n",
    "<h2>Analyzing variable DISEASES</h2>"
   ]
  },
  {
   "cell_type": "code",
   "execution_count": 78,
   "metadata": {},
   "outputs": [
    {
     "data": {
      "text/html": [
       "<div>\n",
       "<style scoped>\n",
       "    .dataframe tbody tr th:only-of-type {\n",
       "        vertical-align: middle;\n",
       "    }\n",
       "\n",
       "    .dataframe tbody tr th {\n",
       "        vertical-align: top;\n",
       "    }\n",
       "\n",
       "    .dataframe thead th {\n",
       "        text-align: right;\n",
       "    }\n",
       "</style>\n",
       "<table border=\"1\" class=\"dataframe\">\n",
       "  <thead>\n",
       "    <tr style=\"text-align: right;\">\n",
       "      <th></th>\n",
       "      <th>frequency</th>\n",
       "      <th>relative frequency</th>\n",
       "      <th>cumulative frequency</th>\n",
       "    </tr>\n",
       "  </thead>\n",
       "  <tbody>\n",
       "    <tr>\n",
       "      <th>0</th>\n",
       "      <td>94.0</td>\n",
       "      <td>0.309211</td>\n",
       "      <td>0.309211</td>\n",
       "    </tr>\n",
       "    <tr>\n",
       "      <th>1</th>\n",
       "      <td>126.0</td>\n",
       "      <td>0.414474</td>\n",
       "      <td>0.723684</td>\n",
       "    </tr>\n",
       "    <tr>\n",
       "      <th>2</th>\n",
       "      <td>73.0</td>\n",
       "      <td>0.240132</td>\n",
       "      <td>0.963816</td>\n",
       "    </tr>\n",
       "    <tr>\n",
       "      <th>3</th>\n",
       "      <td>11.0</td>\n",
       "      <td>0.036184</td>\n",
       "      <td>1.000000</td>\n",
       "    </tr>\n",
       "  </tbody>\n",
       "</table>\n",
       "</div>"
      ],
      "text/plain": [
       "   frequency  relative frequency  cumulative frequency\n",
       "0       94.0            0.309211              0.309211\n",
       "1      126.0            0.414474              0.723684\n",
       "2       73.0            0.240132              0.963816\n",
       "3       11.0            0.036184              1.000000"
      ]
     },
     "execution_count": 78,
     "metadata": {},
     "output_type": "execute_result"
    }
   ],
   "source": [
    "x = np.array(data['diseases'])\n",
    "levels, ni = np.unique(x, return_counts=True)\n",
    "n = sum(ni)\n",
    "fi = ni/n\n",
    "Fi = np.cumsum(fi)\n",
    "ft_diseases = pd.DataFrame(data=np.transpose([ni,fi, Fi]),index=levels,columns=['frequency', 'relative frequency', 'cumulative frequency'])\n",
    "ft_diseases.to_csv('table_diseases.csv')\n",
    "ft_diseases"
   ]
  },
  {
   "cell_type": "code",
   "execution_count": 11,
   "metadata": {},
   "outputs": [
    {
     "data": {
      "image/png": "[encoded data removed]",
      "text/plain": [
       "<Figure size 640x480 with 1 Axes>"
      ]
     },
     "metadata": {},
     "output_type": "display_data"
    }
   ],
   "source": [
    "plt.bar(ft_diseases.index, ni, width=0.1, color='skyblue')\n",
    "plt.ylabel('frequency')\n",
    "plt.xlabel('number of diseases')\n",
    "plt.xticks(ft_diseases.index)\n",
    "plt.yticks(ni)\n",
    "plt.show()"
   ]
  },
  {
   "cell_type": "code",
   "execution_count": 12,
   "metadata": {},
   "outputs": [
    {
     "data": {
      "image/png": "[encoded data removed]",
      "text/plain": [
       "<Figure size 640x480 with 1 Axes>"
      ]
     },
     "metadata": {},
     "output_type": "display_data"
    }
   ],
   "source": [
    "Fi_comp = np.insert(Fi, 0, 0)\n",
    "edges = np.insert(ft_diseases.index, 0, 0)\n",
    "edges = np.append(edges, 4)\n",
    "plt.stairs(Fi_comp,edges)\n",
    "plt.xlim(0,4)\n",
    "plt.yticks(Fi)\n",
    "plt.ylabel('cumulative relative frequency')\n",
    "plt.xlabel('diseases')\n",
    "plt.show()"
   ]
  },
  {
   "cell_type": "code",
   "execution_count": 13,
   "metadata": {},
   "outputs": [
    {
     "data": {
      "text/plain": [
       "'The mean number of diseases is 1.0032894736842106'"
      ]
     },
     "execution_count": 13,
     "metadata": {},
     "output_type": "execute_result"
    }
   ],
   "source": [
    "mean_diseases = np.mean(data['diseases'])\n",
    "f\"The mean number of diseases is {mean_diseases}\""
   ]
  },
  {
   "cell_type": "code",
   "execution_count": 14,
   "metadata": {},
   "outputs": [
    {
     "data": {
      "text/plain": [
       "'The median number of diseases is 1.0'"
      ]
     },
     "execution_count": 14,
     "metadata": {},
     "output_type": "execute_result"
    }
   ],
   "source": [
    "median_diseases = np.median(data['diseases'])\n",
    "f\"The median number of diseases is {median_diseases}\""
   ]
  },
  {
   "cell_type": "code",
   "execution_count": 15,
   "metadata": {},
   "outputs": [
    {
     "data": {
      "text/plain": [
       "'The variance of diseases is 0.6940681267313019'"
      ]
     },
     "execution_count": 15,
     "metadata": {},
     "output_type": "execute_result"
    }
   ],
   "source": [
    "variance_diseases = np.var(data['diseases'])\n",
    "f\"The variance of diseases is {variance_diseases}\""
   ]
  },
  {
   "cell_type": "code",
   "execution_count": 16,
   "metadata": {},
   "outputs": [
    {
     "data": {
      "text/plain": [
       "'The standard deviation of diseases is 0.8331075121083125'"
      ]
     },
     "execution_count": 16,
     "metadata": {},
     "output_type": "execute_result"
    }
   ],
   "source": [
    "std_diseases = np.std(data['diseases'])\n",
    "f\"The standard deviation of diseases is {std_diseases}\""
   ]
  },
  {
   "cell_type": "code",
   "execution_count": 17,
   "metadata": {},
   "outputs": [
    {
     "data": {
      "text/plain": [
       "'The skewness of diseases is 0.36930650443996277'"
      ]
     },
     "execution_count": 17,
     "metadata": {},
     "output_type": "execute_result"
    }
   ],
   "source": [
    "skew_diseases = skew(data['diseases'])\n",
    "diseases_vector = np.array(data['diseases'])\n",
    "skew_diseases_check = sum(((diseases_vector - mean_diseases)/std_diseases)**3) / len(diseases_vector)\n",
    "\n",
    "assert round(skew_diseases_check, 12) == round(skew_diseases, 12)\n",
    "\n",
    "f\"The skewness of diseases is {skew_diseases}\""
   ]
  },
  {
   "cell_type": "code",
   "execution_count": 18,
   "metadata": {},
   "outputs": [
    {
     "data": {
      "text/plain": [
       "'The kurtosis of diseases is -0.6637674922948209'"
      ]
     },
     "execution_count": 18,
     "metadata": {},
     "output_type": "execute_result"
    }
   ],
   "source": [
    "kurt_diseases = kurtosis(data['diseases'])\n",
    "diseases_vector = np.array(data['diseases'])\n",
    "kurt_diseases_check = sum(((diseases_vector - mean_diseases)/std_diseases)**4) / len(diseases_vector) - 3\n",
    "\n",
    "assert round(kurt_diseases_check, 12) == round(kurt_diseases, 12)\n",
    "\n",
    "f\"The kurtosis of diseases is {kurt_diseases}\""
   ]
  },
  {
   "cell_type": "markdown",
   "metadata": {},
   "source": [
    "<h2>Interpretation</h2>\n",
    "<p>The graphs and the table reveal that the distribution of diseases in the dataset is heavily concentrated in the lower ranges, with the majority of individuals having 1 or 0 diseases.\n",
    "\n",
    "Specifically:\n",
    "About 30.92% of individuals have no diseases.\n",
    "By the time we reach 1 disease, approximately 72.37% of the data is accounted for, and 96.38% by 2 diseases.\n",
    "The number of individuals with 3 is quite small.\n",
    "\n",
    "The population is mostly composed of individuals with fewer diseases, with a relatively small portion of the population experiencing more severe cases.</p>"
   ]
  },
  {
   "cell_type": "markdown",
   "metadata": {},
   "source": [
    "<br></br>\n",
    "<h2>Analyzing variable AGE</h2>"
   ]
  },
  {
   "cell_type": "code",
   "execution_count": 19,
   "metadata": {},
   "outputs": [
    {
     "data": {
      "text/html": [
       "<div>\n",
       "<style scoped>\n",
       "    .dataframe tbody tr th:only-of-type {\n",
       "        vertical-align: middle;\n",
       "    }\n",
       "\n",
       "    .dataframe tbody tr th {\n",
       "        vertical-align: top;\n",
       "    }\n",
       "\n",
       "    .dataframe thead th {\n",
       "        text-align: right;\n",
       "    }\n",
       "</style>\n",
       "<table border=\"1\" class=\"dataframe\">\n",
       "  <thead>\n",
       "    <tr style=\"text-align: right;\">\n",
       "      <th></th>\n",
       "      <th>lo</th>\n",
       "      <th>hi</th>\n",
       "      <th>frequency</th>\n",
       "      <th>relative frequency</th>\n",
       "      <th>cumulative frequency</th>\n",
       "    </tr>\n",
       "  </thead>\n",
       "  <tbody>\n",
       "    <tr>\n",
       "      <th>0</th>\n",
       "      <td>0.0</td>\n",
       "      <td>10.0</td>\n",
       "      <td>23.0</td>\n",
       "      <td>0.075658</td>\n",
       "      <td>0.075658</td>\n",
       "    </tr>\n",
       "    <tr>\n",
       "      <th>1</th>\n",
       "      <td>10.0</td>\n",
       "      <td>15.0</td>\n",
       "      <td>23.0</td>\n",
       "      <td>0.075658</td>\n",
       "      <td>0.151316</td>\n",
       "    </tr>\n",
       "    <tr>\n",
       "      <th>2</th>\n",
       "      <td>15.0</td>\n",
       "      <td>20.0</td>\n",
       "      <td>26.0</td>\n",
       "      <td>0.085526</td>\n",
       "      <td>0.236842</td>\n",
       "    </tr>\n",
       "    <tr>\n",
       "      <th>3</th>\n",
       "      <td>20.0</td>\n",
       "      <td>25.0</td>\n",
       "      <td>19.0</td>\n",
       "      <td>0.062500</td>\n",
       "      <td>0.299342</td>\n",
       "    </tr>\n",
       "    <tr>\n",
       "      <th>4</th>\n",
       "      <td>25.0</td>\n",
       "      <td>30.0</td>\n",
       "      <td>17.0</td>\n",
       "      <td>0.055921</td>\n",
       "      <td>0.355263</td>\n",
       "    </tr>\n",
       "    <tr>\n",
       "      <th>5</th>\n",
       "      <td>30.0</td>\n",
       "      <td>35.0</td>\n",
       "      <td>21.0</td>\n",
       "      <td>0.069079</td>\n",
       "      <td>0.424342</td>\n",
       "    </tr>\n",
       "    <tr>\n",
       "      <th>6</th>\n",
       "      <td>35.0</td>\n",
       "      <td>40.0</td>\n",
       "      <td>34.0</td>\n",
       "      <td>0.111842</td>\n",
       "      <td>0.536184</td>\n",
       "    </tr>\n",
       "    <tr>\n",
       "      <th>7</th>\n",
       "      <td>40.0</td>\n",
       "      <td>45.0</td>\n",
       "      <td>24.0</td>\n",
       "      <td>0.078947</td>\n",
       "      <td>0.615132</td>\n",
       "    </tr>\n",
       "    <tr>\n",
       "      <th>8</th>\n",
       "      <td>45.0</td>\n",
       "      <td>50.0</td>\n",
       "      <td>30.0</td>\n",
       "      <td>0.098684</td>\n",
       "      <td>0.713816</td>\n",
       "    </tr>\n",
       "    <tr>\n",
       "      <th>9</th>\n",
       "      <td>50.0</td>\n",
       "      <td>55.0</td>\n",
       "      <td>32.0</td>\n",
       "      <td>0.105263</td>\n",
       "      <td>0.819079</td>\n",
       "    </tr>\n",
       "    <tr>\n",
       "      <th>10</th>\n",
       "      <td>55.0</td>\n",
       "      <td>60.0</td>\n",
       "      <td>23.0</td>\n",
       "      <td>0.075658</td>\n",
       "      <td>0.894737</td>\n",
       "    </tr>\n",
       "    <tr>\n",
       "      <th>11</th>\n",
       "      <td>60.0</td>\n",
       "      <td>70.0</td>\n",
       "      <td>23.0</td>\n",
       "      <td>0.075658</td>\n",
       "      <td>0.970395</td>\n",
       "    </tr>\n",
       "    <tr>\n",
       "      <th>12</th>\n",
       "      <td>70.0</td>\n",
       "      <td>100.0</td>\n",
       "      <td>9.0</td>\n",
       "      <td>0.029605</td>\n",
       "      <td>1.000000</td>\n",
       "    </tr>\n",
       "  </tbody>\n",
       "</table>\n",
       "</div>"
      ],
      "text/plain": [
       "      lo     hi  frequency  relative frequency  cumulative frequency\n",
       "0    0.0   10.0       23.0            0.075658              0.075658\n",
       "1   10.0   15.0       23.0            0.075658              0.151316\n",
       "2   15.0   20.0       26.0            0.085526              0.236842\n",
       "3   20.0   25.0       19.0            0.062500              0.299342\n",
       "4   25.0   30.0       17.0            0.055921              0.355263\n",
       "5   30.0   35.0       21.0            0.069079              0.424342\n",
       "6   35.0   40.0       34.0            0.111842              0.536184\n",
       "7   40.0   45.0       24.0            0.078947              0.615132\n",
       "8   45.0   50.0       30.0            0.098684              0.713816\n",
       "9   50.0   55.0       32.0            0.105263              0.819079\n",
       "10  55.0   60.0       23.0            0.075658              0.894737\n",
       "11  60.0   70.0       23.0            0.075658              0.970395\n",
       "12  70.0  100.0        9.0            0.029605              1.000000"
      ]
     },
     "execution_count": 19,
     "metadata": {},
     "output_type": "execute_result"
    }
   ],
   "source": [
    "x = np.array(data['age_years'])\n",
    "bins = np.array([  0., 10., 15., 20., 25., 30., 35., 40., 45., 50., 55., 60., 70., 100.])\n",
    "ni = np.histogram(x, bins = bins)[0]\n",
    "lo = bins[:-1]\n",
    "hi = bins[1:]\n",
    "n = sum(ni)\n",
    "fi = ni/n\n",
    "Fi = np.cumsum(fi)\n",
    "ft_age = pd.DataFrame(data=np.transpose([lo, hi, ni,fi, Fi]),columns=['lo', 'hi', 'frequency', 'relative frequency', 'cumulative frequency'])\n",
    "ft_age.to_csv('table_age.csv')\n",
    "ft_age"
   ]
  },
  {
   "cell_type": "code",
   "execution_count": 20,
   "metadata": {},
   "outputs": [
    {
     "data": {
      "image/png": "[encoded data removed]",
      "text/plain": [
       "<Figure size 640x480 with 1 Axes>"
      ]
     },
     "metadata": {},
     "output_type": "display_data"
    }
   ],
   "source": [
    "width = hi-lo\n",
    "height = fi/width\n",
    "bin_edges = np.append(lo,hi[-1])\n",
    "plt.hist(bin_edges[:-1], bins = bin_edges, weights = height) \n",
    "plt.xlabel('quantity')\n",
    "plt.show()"
   ]
  },
  {
   "cell_type": "code",
   "execution_count": 21,
   "metadata": {},
   "outputs": [
    {
     "data": {
      "image/png": "[encoded data removed]",
      "text/plain": [
       "<Figure size 640x480 with 1 Axes>"
      ]
     },
     "metadata": {},
     "output_type": "display_data"
    }
   ],
   "source": [
    "plt.boxplot(x)\n",
    "alpha=[0, 0.25,0.5,0.75, 1]\n",
    "quantiles = np.quantile(x,alpha, method = 'inverted_cdf')\n",
    "plt.yticks(quantiles)\n",
    "plt.xticks([1],['age'])\n",
    "plt.show()"
   ]
  },
  {
   "cell_type": "code",
   "execution_count": 22,
   "metadata": {},
   "outputs": [
    {
     "data": {
      "text/plain": [
       "'The mean age is 37.08552631578947'"
      ]
     },
     "execution_count": 22,
     "metadata": {},
     "output_type": "execute_result"
    }
   ],
   "source": [
    "mean_age = np.mean(data['age_years'])\n",
    "f\"The mean age is {mean_age}\""
   ]
  },
  {
   "cell_type": "code",
   "execution_count": 23,
   "metadata": {},
   "outputs": [
    {
     "data": {
      "text/plain": [
       "'The median age is 38.0'"
      ]
     },
     "execution_count": 23,
     "metadata": {},
     "output_type": "execute_result"
    }
   ],
   "source": [
    "median_age = np.median(data['age_years'])\n",
    "f\"The median age is {median_age}\""
   ]
  },
  {
   "cell_type": "code",
   "execution_count": 24,
   "metadata": {},
   "outputs": [
    {
     "data": {
      "text/plain": [
       "'The variance of age is 335.8742641966759'"
      ]
     },
     "execution_count": 24,
     "metadata": {},
     "output_type": "execute_result"
    }
   ],
   "source": [
    "variance_age = np.var(data['age_years'])\n",
    "f\"The variance of age is {variance_age}\""
   ]
  },
  {
   "cell_type": "code",
   "execution_count": 25,
   "metadata": {},
   "outputs": [
    {
     "data": {
      "text/plain": [
       "'The standard deviation of age is 18.326872733684706'"
      ]
     },
     "execution_count": 25,
     "metadata": {},
     "output_type": "execute_result"
    }
   ],
   "source": [
    "std_age = np.std(data['age_years'])\n",
    "f\"The standard deviation of age is {std_age}\""
   ]
  },
  {
   "cell_type": "code",
   "execution_count": 26,
   "metadata": {},
   "outputs": [
    {
     "data": {
      "text/plain": [
       "'The skewness of age is 0.08352232338185928'"
      ]
     },
     "execution_count": 26,
     "metadata": {},
     "output_type": "execute_result"
    }
   ],
   "source": [
    "skew_age = skew(data['age_years'])\n",
    "age_vector = np.array(data['age_years'])\n",
    "skew_age_check = sum(((age_vector - mean_age)/std_age)**3) / len(age_vector)\n",
    "\n",
    "assert round(skew_age_check, 12) == round(skew_age, 12)\n",
    "\n",
    "f\"The skewness of age is {skew_age}\""
   ]
  },
  {
   "cell_type": "code",
   "execution_count": 27,
   "metadata": {},
   "outputs": [
    {
     "data": {
      "text/plain": [
       "'The kurtosis of age is -0.7229877452065159'"
      ]
     },
     "execution_count": 27,
     "metadata": {},
     "output_type": "execute_result"
    }
   ],
   "source": [
    "kurt_age = kurtosis(data['age_years'])\n",
    "age_vector = np.array(data['age_years'])\n",
    "kurt_age_check = sum(((age_vector - mean_age)/std_age)**4) / len(age_vector) - 3\n",
    "\n",
    "assert round(kurt_age_check, 12) == round(kurt_age, 12)\n",
    "\n",
    "f\"The kurtosis of age is {kurt_age}\""
   ]
  },
  {
   "cell_type": "markdown",
   "metadata": {},
   "source": [
    "<h2>Interpretation</h2>\n",
    "<p>The age distribution in this dataset shows a fairly balanced spread, with most individuals falling between 20 and 56 years old. The data captures a wide range of ages, from infants to older adults.</p>"
   ]
  },
  {
   "cell_type": "markdown",
   "metadata": {},
   "source": [
    "<br></br>\n",
    "<h2>General conclusion</h2>\n",
    "<p>People of all ages and genders face optical diseases, 30% of whom have more than 1 visual issue. The problem of bad eyesight is still relevant regardless of the human breakthroughs in many fields and the improvement of the quality of life. There is a lot of space for further studies. For instance, this analysis gives no certainty about the existence of any correlation between eyesight and age or even gender. It could be also useful to make some predictions on the future of the problem. It is not clear if the situation becomes worse within years. If younger generation has more eye diseases, this may turn into the trend of increasing eyesight problems.</p>"
   ]
  },
  {
   "cell_type": "markdown",
   "metadata": {},
   "source": [
    "<br></br>\n",
    "<br></br>\n",
    "<h2>Part III: Confidence intervals</h2>"
   ]
  },
  {
   "cell_type": "markdown",
   "metadata": {},
   "source": [
    "<p>CI for the mean of variable AGE</p>\n",
    "<p>We are interested to understand how old can be the typical unit. For this we construct a two-sided confidence interval at a confidence level of 90%.</p>\n",
    "<p>Because the sample is large, we can use the N(0,1)        distribution: the confidence interval is (x - t, x + t), where the margin of error t is given by t = u*std/sqrt(n) where alpha = 1-0.9 and u is the 1-alpha/2 quantile of the N(0,1)distribution:</p>  "
   ]
  },
  {
   "cell_type": "code",
   "execution_count": 36,
   "metadata": {},
   "outputs": [
    {
     "data": {
      "text/plain": [
       "'The mean of age of a unit is (35.36, 38.81) with confidence level 90%'"
      ]
     },
     "execution_count": 36,
     "metadata": {},
     "output_type": "execute_result"
    }
   ],
   "source": [
    "alpha = 0.1\n",
    "u = stats.norm.ppf(1-alpha/2)\n",
    "t = u*std_age/np.sqrt(len(data))\n",
    "f'The mean of age of a unit is ({mean_age-t:.2f}, {mean_age+t:.2f}) with confidence level 90%'"
   ]
  },
  {
   "cell_type": "markdown",
   "metadata": {},
   "source": [
    "<p>CI for the variance of variable AGE does not exist. There are no confidence interval for the variance in the non Gaussian case.</p>"
   ]
  },
  {
   "cell_type": "markdown",
   "metadata": {},
   "source": [
    "<p>CI for the proportion of variable DISEASES (for value 1)</p>\n",
    "<p>We make a confidence interval for the probability of having 1 disease. The estimated proportion (point estimate) is p = 0.4144736842105263 and we give a 95% estimate of this proportion.</p>\n",
    "<p>Since the sample is large enough (n = 304), the confidence interval is (p - t, p + t) where the margin of error t is given by t = u * sqrt(p0(1-p0))/sqrt(n), alpha = 1-0.95 and u is the 1-alpha/2 quantile of the N(0,1) distribution:</p>"
   ]
  },
  {
   "cell_type": "code",
   "execution_count": 76,
   "metadata": {},
   "outputs": [
    {
     "data": {
      "text/plain": [
       "'the proportion of units with 1 disease is in (0.368,0.4609) with confidence level 95%'"
      ]
     },
     "execution_count": 76,
     "metadata": {},
     "output_type": "execute_result"
    }
   ],
   "source": [
    "p = np.mean(np.array(data['diseases']) == 1)\n",
    "p_ci_dis = (p - u * (p * (1 - p) / len(data))**0.5, \n",
    "           p + u * (p * (1 - p) / len(data))**0.5)\n",
    "\n",
    "f'the proportion of units with 1 disease is in ({round(p_ci_dis[0],4)},{round(p_ci_dis[1],4)}) with confidence level 95%'"
   ]
  },
  {
   "cell_type": "markdown",
   "metadata": {},
   "source": [
    "<br></br>\n",
    "<br></br>\n",
    "<h2>Part IV: Goodness-of-fit tests</h2>"
   ]
  },
  {
   "cell_type": "markdown",
   "metadata": {},
   "source": [
    "<p>The variable DISEASES (representing a range 0-3) is a count. Potential distribution to consider is Poisson distribution or Binomial distribution.</p>\n",
    "<p>We choose the most widely used significance level 0.05. The null hypothesis is \"Data fits the specific distribution\".</p>"
   ]
  },
  {
   "cell_type": "markdown",
   "metadata": {},
   "source": [
    "<h3>Fitting to Poisson distribution</h3>"
   ]
  },
  {
   "cell_type": "code",
   "execution_count": 54,
   "metadata": {},
   "outputs": [],
   "source": [
    "from scipy.stats import poisson, binom, chisquare\n",
    "\n",
    "freq_dis = ft_diseases['frequency']\n",
    "observations = len(data)"
   ]
  },
  {
   "cell_type": "markdown",
   "metadata": {},
   "source": [
    "Expected distribution frequencies"
   ]
  },
  {
   "cell_type": "code",
   "execution_count": 71,
   "metadata": {},
   "outputs": [
    {
     "data": {
      "text/plain": [
       "array([113.64905835, 114.02290394,  57.19898964,  19.12904807])"
      ]
     },
     "execution_count": 71,
     "metadata": {},
     "output_type": "execute_result"
    }
   ],
   "source": [
    "expected_poisson = np.array([observations * poisson.pmf(k, mean_diseases) for k in range(4)])\n",
    "\n",
    "# Fitting the total frequency sums to equal ones\n",
    "expected_poisson = sum(freq_dis) / sum(expected_poisson) * expected_poisson\n",
    "\n",
    "expected_poisson"
   ]
  },
  {
   "cell_type": "markdown",
   "metadata": {},
   "source": [
    "Test"
   ]
  },
  {
   "cell_type": "code",
   "execution_count": 72,
   "metadata": {},
   "outputs": [
    {
     "data": {
      "text/plain": [
       "0.005921847922425107"
      ]
     },
     "execution_count": 72,
     "metadata": {},
     "output_type": "execute_result"
    }
   ],
   "source": [
    "chi2_poisson, p_poisson_val = chisquare(freq_dis, expected_poisson)\n",
    "\n",
    "p_poisson_val"
   ]
  },
  {
   "cell_type": "markdown",
   "metadata": {},
   "source": [
    "Graphically"
   ]
  },
  {
   "cell_type": "code",
   "execution_count": 82,
   "metadata": {},
   "outputs": [
    {
     "data": {
      "image/png": "[encoded data removed]",
      "text/plain": [
       "<Figure size 640x480 with 1 Axes>"
      ]
     },
     "metadata": {},
     "output_type": "display_data"
    }
   ],
   "source": [
    "plt.bar(ft_diseases.index, freq_dis, width=0.1, color='skyblue')\n",
    "plt.ylabel('frequency')\n",
    "plt.xlabel('number of diseases')\n",
    "plt.xticks(ft_diseases.index)\n",
    "plt.yticks(ni)\n",
    "plt.plot(ft_diseases.index, expected_poisson, 'd', color='red')\n",
    "plt.show()"
   ]
  },
  {
   "cell_type": "markdown",
   "metadata": {},
   "source": [
    "Decision\n",
    "\n",
    "Reject the null hypothesis as the p-value is significantly lower than the significance level"
   ]
  },
  {
   "cell_type": "markdown",
   "metadata": {},
   "source": [
    "<h3>Fitting to Binomial distribution</h3>"
   ]
  },
  {
   "cell_type": "code",
   "execution_count": 73,
   "metadata": {},
   "outputs": [],
   "source": [
    "n_binom = 3\n",
    "p_binom = mean_diseases / n_binom"
   ]
  },
  {
   "cell_type": "markdown",
   "metadata": {},
   "source": [
    "Expected distribution frequencies"
   ]
  },
  {
   "cell_type": "code",
   "execution_count": 74,
   "metadata": {},
   "outputs": [
    {
     "data": {
      "text/plain": [
       "[89.63036022301739, 135.1100158221761, 67.88888768659591, 11.370736268210733]"
      ]
     },
     "execution_count": 74,
     "metadata": {},
     "output_type": "execute_result"
    }
   ],
   "source": [
    "expected_binomial = [observations * binom.pmf(k, n_binom, p_binom) for k in range(4)]\n",
    "\n",
    "expected_binomial"
   ]
  },
  {
   "cell_type": "markdown",
   "metadata": {},
   "source": [
    "Test"
   ]
  },
  {
   "cell_type": "code",
   "execution_count": 75,
   "metadata": {},
   "outputs": [
    {
     "data": {
      "text/plain": [
       "0.7472132207809765"
      ]
     },
     "execution_count": 75,
     "metadata": {},
     "output_type": "execute_result"
    }
   ],
   "source": [
    "chi2_binom, p_binom_val = chisquare(freq_dis, expected_binomial)\n",
    "\n",
    "p_binom_val"
   ]
  },
  {
   "cell_type": "markdown",
   "metadata": {},
   "source": [
    "Graphically"
   ]
  },
  {
   "cell_type": "code",
   "execution_count": 83,
   "metadata": {},
   "outputs": [
    {
     "data": {
      "image/png": "[encoded data removed]",
      "text/plain": [
       "<Figure size 640x480 with 1 Axes>"
      ]
     },
     "metadata": {},
     "output_type": "display_data"
    }
   ],
   "source": [
    "plt.bar(ft_diseases.index, freq_dis, width=0.1, color='skyblue')\n",
    "plt.ylabel('frequency')\n",
    "plt.xlabel('number of diseases')\n",
    "plt.xticks(ft_diseases.index)\n",
    "plt.yticks(ni)\n",
    "plt.plot(ft_diseases.index, expected_binomial, 'd', color='red')\n",
    "plt.show()"
   ]
  },
  {
   "cell_type": "markdown",
   "metadata": {},
   "source": [
    "Decision\n",
    "\n",
    "We fail to reject the null hypothesis. We consider the distribution to be the Poisson distribution"
   ]
  },
  {
   "cell_type": "markdown",
   "metadata": {},
   "source": [
    "<h3>From the tests we can conclude that we face with a Binomial distribution</h3>"
   ]
  },
  {
   "cell_type": "markdown",
   "metadata": {},
   "source": [
    "<br></br>\n",
    "<br></br>\n",
    "<h2>Part V: More Hypothesis tests</h2>"
   ]
  },
  {
   "cell_type": "markdown",
   "metadata": {},
   "source": [
    "A chi-squared test to compare samples\n",
    "\n",
    "We can compare the distribution of diseases for males and females. If the distributions are different, it will make further analysis more difficult so we hope to see that the distributions are not significantly different, which means to have a p-value larger that 0.05"
   ]
  },
  {
   "cell_type": "code",
   "execution_count": 86,
   "metadata": {},
   "outputs": [
    {
     "data": {
      "text/html": [
       "<div>\n",
       "<style scoped>\n",
       "    .dataframe tbody tr th:only-of-type {\n",
       "        vertical-align: middle;\n",
       "    }\n",
       "\n",
       "    .dataframe tbody tr th {\n",
       "        vertical-align: top;\n",
       "    }\n",
       "\n",
       "    .dataframe thead th {\n",
       "        text-align: right;\n",
       "    }\n",
       "</style>\n",
       "<table border=\"1\" class=\"dataframe\">\n",
       "  <thead>\n",
       "    <tr style=\"text-align: right;\">\n",
       "      <th></th>\n",
       "      <th>age_years</th>\n",
       "      <th>sex</th>\n",
       "      <th>diseases</th>\n",
       "    </tr>\n",
       "  </thead>\n",
       "  <tbody>\n",
       "    <tr>\n",
       "      <th>0</th>\n",
       "      <td>13</td>\n",
       "      <td>Male</td>\n",
       "      <td>0</td>\n",
       "    </tr>\n",
       "    <tr>\n",
       "      <th>5</th>\n",
       "      <td>20</td>\n",
       "      <td>Male</td>\n",
       "      <td>1</td>\n",
       "    </tr>\n",
       "    <tr>\n",
       "      <th>6</th>\n",
       "      <td>43</td>\n",
       "      <td>Male</td>\n",
       "      <td>0</td>\n",
       "    </tr>\n",
       "    <tr>\n",
       "      <th>8</th>\n",
       "      <td>13</td>\n",
       "      <td>Male</td>\n",
       "      <td>1</td>\n",
       "    </tr>\n",
       "    <tr>\n",
       "      <th>15</th>\n",
       "      <td>12</td>\n",
       "      <td>Male</td>\n",
       "      <td>3</td>\n",
       "    </tr>\n",
       "    <tr>\n",
       "      <th>...</th>\n",
       "      <td>...</td>\n",
       "      <td>...</td>\n",
       "      <td>...</td>\n",
       "    </tr>\n",
       "    <tr>\n",
       "      <th>295</th>\n",
       "      <td>61</td>\n",
       "      <td>Male</td>\n",
       "      <td>1</td>\n",
       "    </tr>\n",
       "    <tr>\n",
       "      <th>296</th>\n",
       "      <td>40</td>\n",
       "      <td>Male</td>\n",
       "      <td>0</td>\n",
       "    </tr>\n",
       "    <tr>\n",
       "      <th>300</th>\n",
       "      <td>43</td>\n",
       "      <td>Male</td>\n",
       "      <td>2</td>\n",
       "    </tr>\n",
       "    <tr>\n",
       "      <th>301</th>\n",
       "      <td>4</td>\n",
       "      <td>Male</td>\n",
       "      <td>1</td>\n",
       "    </tr>\n",
       "    <tr>\n",
       "      <th>302</th>\n",
       "      <td>14</td>\n",
       "      <td>Male</td>\n",
       "      <td>0</td>\n",
       "    </tr>\n",
       "  </tbody>\n",
       "</table>\n",
       "<p>149 rows × 3 columns</p>\n",
       "</div>"
      ],
      "text/plain": [
       "     age_years   sex  diseases\n",
       "0           13  Male         0\n",
       "5           20  Male         1\n",
       "6           43  Male         0\n",
       "8           13  Male         1\n",
       "15          12  Male         3\n",
       "..         ...   ...       ...\n",
       "295         61  Male         1\n",
       "296         40  Male         0\n",
       "300         43  Male         2\n",
       "301          4  Male         1\n",
       "302         14  Male         0\n",
       "\n",
       "[149 rows x 3 columns]"
      ]
     },
     "execution_count": 86,
     "metadata": {},
     "output_type": "execute_result"
    }
   ],
   "source": [
    "data_m = data[data['sex'] == 'Male']\n",
    "data_m"
   ]
  },
  {
   "cell_type": "code",
   "execution_count": 88,
   "metadata": {},
   "outputs": [
    {
     "data": {
      "text/html": [
       "<div>\n",
       "<style scoped>\n",
       "    .dataframe tbody tr th:only-of-type {\n",
       "        vertical-align: middle;\n",
       "    }\n",
       "\n",
       "    .dataframe tbody tr th {\n",
       "        vertical-align: top;\n",
       "    }\n",
       "\n",
       "    .dataframe thead th {\n",
       "        text-align: right;\n",
       "    }\n",
       "</style>\n",
       "<table border=\"1\" class=\"dataframe\">\n",
       "  <thead>\n",
       "    <tr style=\"text-align: right;\">\n",
       "      <th></th>\n",
       "      <th>age_years</th>\n",
       "      <th>sex</th>\n",
       "      <th>diseases</th>\n",
       "    </tr>\n",
       "  </thead>\n",
       "  <tbody>\n",
       "    <tr>\n",
       "      <th>1</th>\n",
       "      <td>13</td>\n",
       "      <td>Female</td>\n",
       "      <td>1</td>\n",
       "    </tr>\n",
       "    <tr>\n",
       "      <th>2</th>\n",
       "      <td>49</td>\n",
       "      <td>Female</td>\n",
       "      <td>2</td>\n",
       "    </tr>\n",
       "    <tr>\n",
       "      <th>3</th>\n",
       "      <td>43</td>\n",
       "      <td>Female</td>\n",
       "      <td>1</td>\n",
       "    </tr>\n",
       "    <tr>\n",
       "      <th>4</th>\n",
       "      <td>47</td>\n",
       "      <td>Female</td>\n",
       "      <td>0</td>\n",
       "    </tr>\n",
       "    <tr>\n",
       "      <th>7</th>\n",
       "      <td>10</td>\n",
       "      <td>Female</td>\n",
       "      <td>3</td>\n",
       "    </tr>\n",
       "    <tr>\n",
       "      <th>...</th>\n",
       "      <td>...</td>\n",
       "      <td>...</td>\n",
       "      <td>...</td>\n",
       "    </tr>\n",
       "    <tr>\n",
       "      <th>293</th>\n",
       "      <td>50</td>\n",
       "      <td>Female</td>\n",
       "      <td>1</td>\n",
       "    </tr>\n",
       "    <tr>\n",
       "      <th>297</th>\n",
       "      <td>24</td>\n",
       "      <td>Female</td>\n",
       "      <td>0</td>\n",
       "    </tr>\n",
       "    <tr>\n",
       "      <th>298</th>\n",
       "      <td>44</td>\n",
       "      <td>Female</td>\n",
       "      <td>2</td>\n",
       "    </tr>\n",
       "    <tr>\n",
       "      <th>299</th>\n",
       "      <td>43</td>\n",
       "      <td>Female</td>\n",
       "      <td>0</td>\n",
       "    </tr>\n",
       "    <tr>\n",
       "      <th>303</th>\n",
       "      <td>8</td>\n",
       "      <td>Female</td>\n",
       "      <td>0</td>\n",
       "    </tr>\n",
       "  </tbody>\n",
       "</table>\n",
       "<p>155 rows × 3 columns</p>\n",
       "</div>"
      ],
      "text/plain": [
       "     age_years     sex  diseases\n",
       "1           13  Female         1\n",
       "2           49  Female         2\n",
       "3           43  Female         1\n",
       "4           47  Female         0\n",
       "7           10  Female         3\n",
       "..         ...     ...       ...\n",
       "293         50  Female         1\n",
       "297         24  Female         0\n",
       "298         44  Female         2\n",
       "299         43  Female         0\n",
       "303          8  Female         0\n",
       "\n",
       "[155 rows x 3 columns]"
      ]
     },
     "execution_count": 88,
     "metadata": {},
     "output_type": "execute_result"
    }
   ],
   "source": [
    "data_f = data[data['sex'] == 'Female']\n",
    "data_f"
   ]
  },
  {
   "cell_type": "code",
   "execution_count": 106,
   "metadata": {},
   "outputs": [
    {
     "data": {
      "text/plain": [
       "array([49, 68, 27,  5])"
      ]
     },
     "execution_count": 106,
     "metadata": {},
     "output_type": "execute_result"
    }
   ],
   "source": [
    "x_m = np.array(data_m['diseases'])\n",
    "levels_m, ni_m = np.unique(x_m, return_counts=True)\n",
    "ni_m"
   ]
  },
  {
   "cell_type": "code",
   "execution_count": 97,
   "metadata": {},
   "outputs": [
    {
     "data": {
      "text/plain": [
       "array([45, 58, 46,  6])"
      ]
     },
     "execution_count": 97,
     "metadata": {},
     "output_type": "execute_result"
    }
   ],
   "source": [
    "x_f = np.array(data_f['diseases'])\n",
    "levels_f, ni_f = np.unique(x_f, return_counts=True)\n",
    "ni_f"
   ]
  },
  {
   "cell_type": "markdown",
   "metadata": {},
   "source": [
    "We can notice that the frequencies for the third value differ in approximately 2 times"
   ]
  },
  {
   "cell_type": "code",
   "execution_count": 99,
   "metadata": {},
   "outputs": [
    {
     "data": {
      "text/plain": [
       "(array([[49, 68, 27,  5],\n",
       "        [45, 58, 46,  6]]),\n",
       " array([149, 155]),\n",
       " array([ 94, 126,  73,  11]),\n",
       " 3)"
      ]
     },
     "execution_count": 99,
     "metadata": {},
     "output_type": "execute_result"
    }
   ],
   "source": [
    "nkj = np.vstack((ni_m, ni_f))\n",
    "nk = np.sum(nkj, axis = 1)\n",
    "nj = np.sum(nkj, axis = 0)\n",
    "ddl = (np.shape(nkj)[0]-1)*(np.shape(nkj)[1]-1)\n",
    "nkj, nk, nj, ddl"
   ]
  },
  {
   "cell_type": "markdown",
   "metadata": {},
   "source": [
    "The chi-squared statistic"
   ]
  },
  {
   "cell_type": "code",
   "execution_count": 102,
   "metadata": {},
   "outputs": [
    {
     "data": {
      "text/plain": [
       "5.88384908918869"
      ]
     },
     "execution_count": 102,
     "metadata": {},
     "output_type": "execute_result"
    }
   ],
   "source": [
    "nkj_th = np.tensordot(nk,nj, axes = 0)/observations\n",
    "dkj = (nkj- nkj_th)**2/nkj_th\n",
    "d2 =  np.sum(dkj)\n",
    "d2"
   ]
  },
  {
   "cell_type": "markdown",
   "metadata": {},
   "source": [
    "The p-value"
   ]
  },
  {
   "cell_type": "code",
   "execution_count": 103,
   "metadata": {},
   "outputs": [
    {
     "data": {
      "text/plain": [
       "0.11740001080513573"
      ]
     },
     "execution_count": 103,
     "metadata": {},
     "output_type": "execute_result"
    }
   ],
   "source": [
    "p_value =stats.chi2.sf(d2, ddl)\n",
    "p_value"
   ]
  },
  {
   "cell_type": "markdown",
   "metadata": {},
   "source": [
    "The p-value is bigger than the significance level (0.117 >> 0.05), so the distributions are approximately equal. It means that there is no factor which influences the distribution according to the gender"
   ]
  },
  {
   "cell_type": "code",
   "execution_count": 105,
   "metadata": {},
   "outputs": [
    {
     "data": {
      "image/png": "[encoded data removed]",
      "text/plain": [
       "<Figure size 640x480 with 2 Axes>"
      ]
     },
     "metadata": {},
     "output_type": "display_data"
    }
   ],
   "source": [
    "plt.subplot(1,2,1)\n",
    "plt.bar(ft_diseases.index, ni_m)\n",
    "plt.title('Diseases for males')\n",
    "plt.subplot(1,2,2)\n",
    "plt.bar(ft_diseases.index, ni_f)\n",
    "plt.title('Diseases for females')\n",
    "plt.show()"
   ]
  },
  {
   "cell_type": "markdown",
   "metadata": {},
   "source": [
    "A parametric test to compare the means of two samples"
   ]
  },
  {
   "cell_type": "code",
   "execution_count": 108,
   "metadata": {},
   "outputs": [
    {
     "data": {
      "text/plain": [
       "0.48829207176506306"
      ]
     },
     "execution_count": 108,
     "metadata": {},
     "output_type": "execute_result"
    }
   ],
   "source": [
    "bx, sx2, nx = np.mean(ni_m), np.var(ni_m), len(ni_m)\n",
    "by, sy2, ny = np.mean(ni_f), np.var(ni_f), len(ni_f)\n",
    "t = (bx-by)*np.sqrt(observations-2)/np.sqrt((nx-1)*sx2+(ny-1)*sy2)/np.sqrt(1/nx+1/ny)\n",
    "p_value = 2*stats.t.sf(np.abs(t), observations-2)\n",
    "p_value"
   ]
  },
  {
   "cell_type": "markdown",
   "metadata": {},
   "source": [
    "We fail to reject the equality of means"
   ]
  },
  {
   "cell_type": "markdown",
   "metadata": {},
   "source": [
    "<h2>Conclusion</h2>\n",
    "\n",
    "The notebook explores data on eye conditions and diseases from a dataset collected between 2003 and 2022 at IOBA, a University of Valladolid-affiliated institution in Spain. The analysis focuses on the number of detected eye diseases among people of all ages abd genders.\n",
    "\n",
    "Key concepts:\n",
    "\n",
    "Dataset overview:\n",
    "The dataset includes 304 participants, with variables such as age (continuous, ranging from 4 to 86 years), sex (categorical, Male/Female), and the number of eye diseases (discrete, ranging from 0 to 3).\n",
    "Diagnoses are detailed, including \"Normal\" (0 diseases) and up to three specific diagnoses for some participants.\n",
    "\n",
    "Population characteristics:\n",
    "The dataset has a nearly even distribution of male and female participants (Male: ~49%, Female: ~51%).\n",
    "A significant proportion of participants  1 eye disease.\n",
    "\n",
    "Data relevance:\n",
    "The dataset provides insights due to its size and diversity, making it highly valuable for understanding patterns in eye health and disease prevalence across different demographics.\n",
    "Its credibility is supported by its source, a published dataset designed for ophthalmology research.\n",
    "\n",
    "Insights from analysis:\n",
    "Age and eye diseases: There is no confidence and no correlation test between age and diseases.\n",
    "Sex and diseases: There is no indication of a significant difference in the number of diseases between males and females.\n",
    "Dataset quality: The data is well-structured, with clear documentation of variables, making it suitable for a deeper statistical analysis.\n",
    "\n",
    "Conclusion:\n",
    "The dataset effectively captures the dynamics of eye health among a diverse population over nearly two decades. It demonstrates that while many participants maintain normal vision, there is a plenty of those who struggle from 1 or more optical issues. The study underscores the importance of managing eye health. This dataset can serve as a benchmark for further research in ophthalmology."
   ]
  }
 ],
 "metadata": {
  "kernelspec": {
   "display_name": "Python 3",
   "language": "python",
   "name": "python3"
  },
  "language_info": {
   "codemirror_mode": {
    "name": "ipython",
    "version": 3
   },
   "file_extension": ".py",
   "mimetype": "text/x-python",
   "name": "python",
   "nbconvert_exporter": "python",
   "pygments_lexer": "ipython3",
   "version": "3.11.1"
  }
 },
 "nbformat": 4,
 "nbformat_minor": 2
}
