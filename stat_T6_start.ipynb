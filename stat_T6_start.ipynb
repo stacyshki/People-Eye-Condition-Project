{
 "cells": [
  {
   "cell_type": "code",
   "execution_count": 1,
   "id": "fdd06e29-ac69-4043-8dda-b92097ff669d",
   "metadata": {},
   "outputs": [],
   "source": [
    "import numpy as np\n",
    "import scipy.stats as st\n",
    "import matplotlib.pyplot as plt\n",
    "import pandas as pd"
   ]
  },
  {
   "cell_type": "markdown",
   "id": "c841b536-d7fa-421a-87ae-2c93c15796be",
   "metadata": {},
   "source": [
    "## Goodness-of-fit test - The discrete case"
   ]
  },
  {
   "cell_type": "code",
   "execution_count": 2,
   "id": "6c3d0341-4a5b-4e2c-b28f-a79cd13353f9",
   "metadata": {},
   "outputs": [
    {
     "data": {
      "text/plain": [
       "(array([1, 1, 3, 2, 3, 1, 1, 1, 4, 3, 2, 7, 1, 2, 1, 1, 2, 4, 2, 1, 1, 1,\n",
       "        2, 2, 5, 2, 1, 1, 1, 1, 3, 2, 2, 1, 1, 1, 1, 1, 6, 1, 3, 1, 1, 3,\n",
       "        2, 1, 1, 2, 1, 4]),\n",
       " 50)"
      ]
     },
     "execution_count": 2,
     "metadata": {},
     "output_type": "execute_result"
    }
   ],
   "source": [
    "# copy-paste the data\n",
    "s = '1 1 3 2 3 1 1 1 4 3 2 7 1 2 1 1 2 4 2 1 1 1 2 2 5 2 1 1 1 1 3 2 2 1 1 1 1 1 6 1 3 1 1 3 2 1 1 2 1 4' # s is a string\n",
    "L = s.split(' ') # we cut s into a list of strings by using the space ' ' as a separator \n",
    "\n",
    "L = list(map(int,L)) # we use map to transfer each string into an integer (for a real number use float instead of int) \n",
    "                        # and we make a list of it\n",
    "\n",
    "x= np.array(L) # we transorm this list into an array\n",
    "\n",
    "n = len(x)\n",
    "x, n"
   ]
  },
  {
   "cell_type": "code",
   "execution_count": 3,
   "id": "ad2950fc-b9e9-4708-acb4-069cea4e75ea",
   "metadata": {},
   "outputs": [
    {
     "data": {
      "image/png": "[encoded data removed]",
      "text/plain": [
       "<Figure size 640x480 with 1 Axes>"
      ]
     },
     "metadata": {},
     "output_type": "display_data"
    }
   ],
   "source": [
    "val, freq = np.unique(x, return_counts=True)\n",
    "plt.bar(val, freq / n)\n",
    "pj = np.array([1/2**k for k in range(1,8)])\n",
    "plt.plot(val, pj, 'r-')\n",
    "plt.show()"
   ]
  },
  {
   "cell_type": "code",
   "execution_count": 4,
   "id": "6d81bb4b",
   "metadata": {},
   "outputs": [
    {
     "data": {
      "image/png": "[encoded data removed]",
      "text/plain": [
       "<Figure size 640x480 with 1 Axes>"
      ]
     },
     "metadata": {},
     "output_type": "display_data"
    }
   ],
   "source": [
    "val_new = np.hstack((val[:-4], np.array(['4+'])))\n",
    "nj = np.hstack((freq[:-4], np.sum(freq[-4:])))\n",
    "plt.bar(val_new, nj / n)\n",
    "pj_new_arr = [1/2**k for k in range(1,4)]\n",
    "pj_new = np.array(pj_new_arr + [1 - sum(pj_new_arr)])\n",
    "plt.show()"
   ]
  },
  {
   "cell_type": "code",
   "execution_count": 5,
   "id": "72e9b3d0",
   "metadata": {},
   "outputs": [
    {
     "data": {
      "text/plain": [
       "np.float64(0.9941243682104942)"
      ]
     },
     "execution_count": 5,
     "metadata": {},
     "output_type": "execute_result"
    }
   ],
   "source": [
    "d_sq = sum((nj - n * pj_new)**2 / (n * pj_new))\n",
    "J = len(nj)\n",
    "d_sq # Chi-squared distance d**2\n",
    "# Significance risk-level = 0.05\n",
    "p_value = st.chi2.sf(d_sq, df = J - 1)\n",
    "alpha = 0.05\n",
    "p_value"
   ]
  },
  {
   "cell_type": "code",
   "execution_count": 6,
   "id": "67fad500",
   "metadata": {},
   "outputs": [
    {
     "data": {
      "text/plain": [
       "np.float64(7.814727903251179)"
      ]
     },
     "execution_count": 6,
     "metadata": {},
     "output_type": "execute_result"
    }
   ],
   "source": [
    "xc = st.chi2.ppf(1 - alpha, J - 1)\n",
    "xc"
   ]
  },
  {
   "cell_type": "markdown",
   "id": "d7fdc7dc",
   "metadata": {},
   "source": [
    "Conclusion: We DO NOT REJECT H0"
   ]
  },
  {
   "cell_type": "code",
   "execution_count": null,
   "id": "1f333a43",
   "metadata": {},
   "outputs": [],
   "source": []
  },
  {
   "cell_type": "markdown",
   "id": "7bcb75c3-3d7b-42eb-a3dc-53b26974efd2",
   "metadata": {},
   "source": [
    "## Chi-squared test for comparing homogeneous samples"
   ]
  },
  {
   "cell_type": "code",
   "execution_count": null,
   "id": "383c3b89-0cac-4d08-820d-f27c2e9de07f",
   "metadata": {},
   "outputs": [],
   "source": []
  },
  {
   "cell_type": "markdown",
   "id": "7873b32d-718a-4935-b155-11014df65af4",
   "metadata": {},
   "source": [
    "## Goodness-of-fit test - The continuous case\n",
    "\n",
    "We use the data `flights.txt`"
   ]
  },
  {
   "cell_type": "code",
   "execution_count": 7,
   "id": "f70334be-ecc9-4b49-96c4-43fa4b7cdf35",
   "metadata": {},
   "outputs": [
    {
     "ename": "FileNotFoundError",
     "evalue": "[Errno 2] No such file or directory: 'flights.txt'",
     "output_type": "error",
     "traceback": [
      "\u001b[1;31m---------------------------------------------------------------------------\u001b[0m",
      "\u001b[1;31mFileNotFoundError\u001b[0m                         Traceback (most recent call last)",
      "Cell \u001b[1;32mIn[7], line 1\u001b[0m\n\u001b[1;32m----> 1\u001b[0m sr \u001b[38;5;241m=\u001b[39m \u001b[43mpd\u001b[49m\u001b[38;5;241;43m.\u001b[39;49m\u001b[43mread_csv\u001b[49m\u001b[43m(\u001b[49m\u001b[38;5;124;43m'\u001b[39;49m\u001b[38;5;124;43mflights.txt\u001b[39;49m\u001b[38;5;124;43m'\u001b[39;49m\u001b[43m)\u001b[49m \u001b[38;5;66;03m# open the data file as a series (a 1D DataFrame)\u001b[39;00m\n\u001b[0;32m      2\u001b[0m sr\n",
      "File \u001b[1;32mc:\\Users\\korot\\AppData\\Local\\Programs\\Python\\Python311\\Lib\\site-packages\\pandas\\io\\parsers\\readers.py:1026\u001b[0m, in \u001b[0;36mread_csv\u001b[1;34m(filepath_or_buffer, sep, delimiter, header, names, index_col, usecols, dtype, engine, converters, true_values, false_values, skipinitialspace, skiprows, skipfooter, nrows, na_values, keep_default_na, na_filter, verbose, skip_blank_lines, parse_dates, infer_datetime_format, keep_date_col, date_parser, date_format, dayfirst, cache_dates, iterator, chunksize, compression, thousands, decimal, lineterminator, quotechar, quoting, doublequote, escapechar, comment, encoding, encoding_errors, dialect, on_bad_lines, delim_whitespace, low_memory, memory_map, float_precision, storage_options, dtype_backend)\u001b[0m\n\u001b[0;32m   1013\u001b[0m kwds_defaults \u001b[38;5;241m=\u001b[39m _refine_defaults_read(\n\u001b[0;32m   1014\u001b[0m     dialect,\n\u001b[0;32m   1015\u001b[0m     delimiter,\n\u001b[1;32m   (...)\u001b[0m\n\u001b[0;32m   1022\u001b[0m     dtype_backend\u001b[38;5;241m=\u001b[39mdtype_backend,\n\u001b[0;32m   1023\u001b[0m )\n\u001b[0;32m   1024\u001b[0m kwds\u001b[38;5;241m.\u001b[39mupdate(kwds_defaults)\n\u001b[1;32m-> 1026\u001b[0m \u001b[38;5;28;01mreturn\u001b[39;00m \u001b[43m_read\u001b[49m\u001b[43m(\u001b[49m\u001b[43mfilepath_or_buffer\u001b[49m\u001b[43m,\u001b[49m\u001b[43m \u001b[49m\u001b[43mkwds\u001b[49m\u001b[43m)\u001b[49m\n",
      "File \u001b[1;32mc:\\Users\\korot\\AppData\\Local\\Programs\\Python\\Python311\\Lib\\site-packages\\pandas\\io\\parsers\\readers.py:620\u001b[0m, in \u001b[0;36m_read\u001b[1;34m(filepath_or_buffer, kwds)\u001b[0m\n\u001b[0;32m    617\u001b[0m _validate_names(kwds\u001b[38;5;241m.\u001b[39mget(\u001b[38;5;124m\"\u001b[39m\u001b[38;5;124mnames\u001b[39m\u001b[38;5;124m\"\u001b[39m, \u001b[38;5;28;01mNone\u001b[39;00m))\n\u001b[0;32m    619\u001b[0m \u001b[38;5;66;03m# Create the parser.\u001b[39;00m\n\u001b[1;32m--> 620\u001b[0m parser \u001b[38;5;241m=\u001b[39m \u001b[43mTextFileReader\u001b[49m\u001b[43m(\u001b[49m\u001b[43mfilepath_or_buffer\u001b[49m\u001b[43m,\u001b[49m\u001b[43m \u001b[49m\u001b[38;5;241;43m*\u001b[39;49m\u001b[38;5;241;43m*\u001b[39;49m\u001b[43mkwds\u001b[49m\u001b[43m)\u001b[49m\n\u001b[0;32m    622\u001b[0m \u001b[38;5;28;01mif\u001b[39;00m chunksize \u001b[38;5;129;01mor\u001b[39;00m iterator:\n\u001b[0;32m    623\u001b[0m     \u001b[38;5;28;01mreturn\u001b[39;00m parser\n",
      "File \u001b[1;32mc:\\Users\\korot\\AppData\\Local\\Programs\\Python\\Python311\\Lib\\site-packages\\pandas\\io\\parsers\\readers.py:1620\u001b[0m, in \u001b[0;36mTextFileReader.__init__\u001b[1;34m(self, f, engine, **kwds)\u001b[0m\n\u001b[0;32m   1617\u001b[0m     \u001b[38;5;28mself\u001b[39m\u001b[38;5;241m.\u001b[39moptions[\u001b[38;5;124m\"\u001b[39m\u001b[38;5;124mhas_index_names\u001b[39m\u001b[38;5;124m\"\u001b[39m] \u001b[38;5;241m=\u001b[39m kwds[\u001b[38;5;124m\"\u001b[39m\u001b[38;5;124mhas_index_names\u001b[39m\u001b[38;5;124m\"\u001b[39m]\n\u001b[0;32m   1619\u001b[0m \u001b[38;5;28mself\u001b[39m\u001b[38;5;241m.\u001b[39mhandles: IOHandles \u001b[38;5;241m|\u001b[39m \u001b[38;5;28;01mNone\u001b[39;00m \u001b[38;5;241m=\u001b[39m \u001b[38;5;28;01mNone\u001b[39;00m\n\u001b[1;32m-> 1620\u001b[0m \u001b[38;5;28mself\u001b[39m\u001b[38;5;241m.\u001b[39m_engine \u001b[38;5;241m=\u001b[39m \u001b[38;5;28;43mself\u001b[39;49m\u001b[38;5;241;43m.\u001b[39;49m\u001b[43m_make_engine\u001b[49m\u001b[43m(\u001b[49m\u001b[43mf\u001b[49m\u001b[43m,\u001b[49m\u001b[43m \u001b[49m\u001b[38;5;28;43mself\u001b[39;49m\u001b[38;5;241;43m.\u001b[39;49m\u001b[43mengine\u001b[49m\u001b[43m)\u001b[49m\n",
      "File \u001b[1;32mc:\\Users\\korot\\AppData\\Local\\Programs\\Python\\Python311\\Lib\\site-packages\\pandas\\io\\parsers\\readers.py:1880\u001b[0m, in \u001b[0;36mTextFileReader._make_engine\u001b[1;34m(self, f, engine)\u001b[0m\n\u001b[0;32m   1878\u001b[0m     \u001b[38;5;28;01mif\u001b[39;00m \u001b[38;5;124m\"\u001b[39m\u001b[38;5;124mb\u001b[39m\u001b[38;5;124m\"\u001b[39m \u001b[38;5;129;01mnot\u001b[39;00m \u001b[38;5;129;01min\u001b[39;00m mode:\n\u001b[0;32m   1879\u001b[0m         mode \u001b[38;5;241m+\u001b[39m\u001b[38;5;241m=\u001b[39m \u001b[38;5;124m\"\u001b[39m\u001b[38;5;124mb\u001b[39m\u001b[38;5;124m\"\u001b[39m\n\u001b[1;32m-> 1880\u001b[0m \u001b[38;5;28mself\u001b[39m\u001b[38;5;241m.\u001b[39mhandles \u001b[38;5;241m=\u001b[39m \u001b[43mget_handle\u001b[49m\u001b[43m(\u001b[49m\n\u001b[0;32m   1881\u001b[0m \u001b[43m    \u001b[49m\u001b[43mf\u001b[49m\u001b[43m,\u001b[49m\n\u001b[0;32m   1882\u001b[0m \u001b[43m    \u001b[49m\u001b[43mmode\u001b[49m\u001b[43m,\u001b[49m\n\u001b[0;32m   1883\u001b[0m \u001b[43m    \u001b[49m\u001b[43mencoding\u001b[49m\u001b[38;5;241;43m=\u001b[39;49m\u001b[38;5;28;43mself\u001b[39;49m\u001b[38;5;241;43m.\u001b[39;49m\u001b[43moptions\u001b[49m\u001b[38;5;241;43m.\u001b[39;49m\u001b[43mget\u001b[49m\u001b[43m(\u001b[49m\u001b[38;5;124;43m\"\u001b[39;49m\u001b[38;5;124;43mencoding\u001b[39;49m\u001b[38;5;124;43m\"\u001b[39;49m\u001b[43m,\u001b[49m\u001b[43m \u001b[49m\u001b[38;5;28;43;01mNone\u001b[39;49;00m\u001b[43m)\u001b[49m\u001b[43m,\u001b[49m\n\u001b[0;32m   1884\u001b[0m \u001b[43m    \u001b[49m\u001b[43mcompression\u001b[49m\u001b[38;5;241;43m=\u001b[39;49m\u001b[38;5;28;43mself\u001b[39;49m\u001b[38;5;241;43m.\u001b[39;49m\u001b[43moptions\u001b[49m\u001b[38;5;241;43m.\u001b[39;49m\u001b[43mget\u001b[49m\u001b[43m(\u001b[49m\u001b[38;5;124;43m\"\u001b[39;49m\u001b[38;5;124;43mcompression\u001b[39;49m\u001b[38;5;124;43m\"\u001b[39;49m\u001b[43m,\u001b[49m\u001b[43m \u001b[49m\u001b[38;5;28;43;01mNone\u001b[39;49;00m\u001b[43m)\u001b[49m\u001b[43m,\u001b[49m\n\u001b[0;32m   1885\u001b[0m \u001b[43m    \u001b[49m\u001b[43mmemory_map\u001b[49m\u001b[38;5;241;43m=\u001b[39;49m\u001b[38;5;28;43mself\u001b[39;49m\u001b[38;5;241;43m.\u001b[39;49m\u001b[43moptions\u001b[49m\u001b[38;5;241;43m.\u001b[39;49m\u001b[43mget\u001b[49m\u001b[43m(\u001b[49m\u001b[38;5;124;43m\"\u001b[39;49m\u001b[38;5;124;43mmemory_map\u001b[39;49m\u001b[38;5;124;43m\"\u001b[39;49m\u001b[43m,\u001b[49m\u001b[43m \u001b[49m\u001b[38;5;28;43;01mFalse\u001b[39;49;00m\u001b[43m)\u001b[49m\u001b[43m,\u001b[49m\n\u001b[0;32m   1886\u001b[0m \u001b[43m    \u001b[49m\u001b[43mis_text\u001b[49m\u001b[38;5;241;43m=\u001b[39;49m\u001b[43mis_text\u001b[49m\u001b[43m,\u001b[49m\n\u001b[0;32m   1887\u001b[0m \u001b[43m    \u001b[49m\u001b[43merrors\u001b[49m\u001b[38;5;241;43m=\u001b[39;49m\u001b[38;5;28;43mself\u001b[39;49m\u001b[38;5;241;43m.\u001b[39;49m\u001b[43moptions\u001b[49m\u001b[38;5;241;43m.\u001b[39;49m\u001b[43mget\u001b[49m\u001b[43m(\u001b[49m\u001b[38;5;124;43m\"\u001b[39;49m\u001b[38;5;124;43mencoding_errors\u001b[39;49m\u001b[38;5;124;43m\"\u001b[39;49m\u001b[43m,\u001b[49m\u001b[43m \u001b[49m\u001b[38;5;124;43m\"\u001b[39;49m\u001b[38;5;124;43mstrict\u001b[39;49m\u001b[38;5;124;43m\"\u001b[39;49m\u001b[43m)\u001b[49m\u001b[43m,\u001b[49m\n\u001b[0;32m   1888\u001b[0m \u001b[43m    \u001b[49m\u001b[43mstorage_options\u001b[49m\u001b[38;5;241;43m=\u001b[39;49m\u001b[38;5;28;43mself\u001b[39;49m\u001b[38;5;241;43m.\u001b[39;49m\u001b[43moptions\u001b[49m\u001b[38;5;241;43m.\u001b[39;49m\u001b[43mget\u001b[49m\u001b[43m(\u001b[49m\u001b[38;5;124;43m\"\u001b[39;49m\u001b[38;5;124;43mstorage_options\u001b[39;49m\u001b[38;5;124;43m\"\u001b[39;49m\u001b[43m,\u001b[49m\u001b[43m \u001b[49m\u001b[38;5;28;43;01mNone\u001b[39;49;00m\u001b[43m)\u001b[49m\u001b[43m,\u001b[49m\n\u001b[0;32m   1889\u001b[0m \u001b[43m\u001b[49m\u001b[43m)\u001b[49m\n\u001b[0;32m   1890\u001b[0m \u001b[38;5;28;01massert\u001b[39;00m \u001b[38;5;28mself\u001b[39m\u001b[38;5;241m.\u001b[39mhandles \u001b[38;5;129;01mis\u001b[39;00m \u001b[38;5;129;01mnot\u001b[39;00m \u001b[38;5;28;01mNone\u001b[39;00m\n\u001b[0;32m   1891\u001b[0m f \u001b[38;5;241m=\u001b[39m \u001b[38;5;28mself\u001b[39m\u001b[38;5;241m.\u001b[39mhandles\u001b[38;5;241m.\u001b[39mhandle\n",
      "File \u001b[1;32mc:\\Users\\korot\\AppData\\Local\\Programs\\Python\\Python311\\Lib\\site-packages\\pandas\\io\\common.py:873\u001b[0m, in \u001b[0;36mget_handle\u001b[1;34m(path_or_buf, mode, encoding, compression, memory_map, is_text, errors, storage_options)\u001b[0m\n\u001b[0;32m    868\u001b[0m \u001b[38;5;28;01melif\u001b[39;00m \u001b[38;5;28misinstance\u001b[39m(handle, \u001b[38;5;28mstr\u001b[39m):\n\u001b[0;32m    869\u001b[0m     \u001b[38;5;66;03m# Check whether the filename is to be opened in binary mode.\u001b[39;00m\n\u001b[0;32m    870\u001b[0m     \u001b[38;5;66;03m# Binary mode does not support 'encoding' and 'newline'.\u001b[39;00m\n\u001b[0;32m    871\u001b[0m     \u001b[38;5;28;01mif\u001b[39;00m ioargs\u001b[38;5;241m.\u001b[39mencoding \u001b[38;5;129;01mand\u001b[39;00m \u001b[38;5;124m\"\u001b[39m\u001b[38;5;124mb\u001b[39m\u001b[38;5;124m\"\u001b[39m \u001b[38;5;129;01mnot\u001b[39;00m \u001b[38;5;129;01min\u001b[39;00m ioargs\u001b[38;5;241m.\u001b[39mmode:\n\u001b[0;32m    872\u001b[0m         \u001b[38;5;66;03m# Encoding\u001b[39;00m\n\u001b[1;32m--> 873\u001b[0m         handle \u001b[38;5;241m=\u001b[39m \u001b[38;5;28;43mopen\u001b[39;49m\u001b[43m(\u001b[49m\n\u001b[0;32m    874\u001b[0m \u001b[43m            \u001b[49m\u001b[43mhandle\u001b[49m\u001b[43m,\u001b[49m\n\u001b[0;32m    875\u001b[0m \u001b[43m            \u001b[49m\u001b[43mioargs\u001b[49m\u001b[38;5;241;43m.\u001b[39;49m\u001b[43mmode\u001b[49m\u001b[43m,\u001b[49m\n\u001b[0;32m    876\u001b[0m \u001b[43m            \u001b[49m\u001b[43mencoding\u001b[49m\u001b[38;5;241;43m=\u001b[39;49m\u001b[43mioargs\u001b[49m\u001b[38;5;241;43m.\u001b[39;49m\u001b[43mencoding\u001b[49m\u001b[43m,\u001b[49m\n\u001b[0;32m    877\u001b[0m \u001b[43m            \u001b[49m\u001b[43merrors\u001b[49m\u001b[38;5;241;43m=\u001b[39;49m\u001b[43merrors\u001b[49m\u001b[43m,\u001b[49m\n\u001b[0;32m    878\u001b[0m \u001b[43m            \u001b[49m\u001b[43mnewline\u001b[49m\u001b[38;5;241;43m=\u001b[39;49m\u001b[38;5;124;43m\"\u001b[39;49m\u001b[38;5;124;43m\"\u001b[39;49m\u001b[43m,\u001b[49m\n\u001b[0;32m    879\u001b[0m \u001b[43m        \u001b[49m\u001b[43m)\u001b[49m\n\u001b[0;32m    880\u001b[0m     \u001b[38;5;28;01melse\u001b[39;00m:\n\u001b[0;32m    881\u001b[0m         \u001b[38;5;66;03m# Binary mode\u001b[39;00m\n\u001b[0;32m    882\u001b[0m         handle \u001b[38;5;241m=\u001b[39m \u001b[38;5;28mopen\u001b[39m(handle, ioargs\u001b[38;5;241m.\u001b[39mmode)\n",
      "\u001b[1;31mFileNotFoundError\u001b[0m: [Errno 2] No such file or directory: 'flights.txt'"
     ]
    }
   ],
   "source": [
    "sr = pd.read_csv('flights.txt') # open the data file as a series (a 1D DataFrame)\n",
    "sr"
   ]
  },
  {
   "cell_type": "code",
   "execution_count": null,
   "id": "5697a78c-a48b-4f5f-9aa6-19f677bff8c2",
   "metadata": {},
   "outputs": [
    {
     "data": {
      "text/plain": [
       "(array([1.90983291, 1.90466853, 1.91536834, 1.92280288, 1.90508347,\n",
       "        1.94976949, 1.91660464, 1.91486734, 1.90310226, 1.9149122 ,\n",
       "        1.90231756, 1.92527141, 1.93807129, 1.9315535 , 1.90449458,\n",
       "        1.90404312, 1.93886203, 1.94525674, 1.9266886 , 1.95545771,\n",
       "        1.99129044, 1.96690489, 1.96469865, 1.98731567, 1.95051683,\n",
       "        1.95242237, 1.98339581, 1.9801734 , 1.97630512, 1.98648547,\n",
       "        1.98536267, 1.98906885, 1.96439885, 1.9846266 , 1.97783349,\n",
       "        1.96982604, 1.95307953, 1.98900878, 2.01687919, 2.0303933 ,\n",
       "        2.0370627 , 2.00524066, 2.00639442, 2.02747701, 2.02426147,\n",
       "        2.04452378, 2.03994801, 2.03671705, 2.00256659, 2.00364426,\n",
       "        2.00442637, 2.03991754, 2.04715041, 2.03418578, 2.00660415,\n",
       "        2.03613623, 2.00551767, 2.00587464, 2.0320359 , 2.01644071,\n",
       "        2.0326906 , 2.03745657, 2.02915929, 2.03700162, 2.01174135,\n",
       "        2.03674788, 2.04852993, 2.04334651, 2.00431173, 2.01832183,\n",
       "        2.01845994, 2.03425142, 2.02989708, 2.0394682 , 2.01838265,\n",
       "        2.01030139, 2.00433333, 2.0885967 , 2.06028373, 2.06941358,\n",
       "        2.07758893, 2.06144766, 2.08209703, 2.07422402, 2.05759228,\n",
       "        2.0890966 , 2.05503032, 2.06470332, 2.06186865, 2.07654361,\n",
       "        2.05457494, 2.07026577, 2.05524231, 2.0556142 , 2.08922139,\n",
       "        2.06457852, 2.08017667, 2.09822113, 2.07162425, 2.08473761,\n",
       "        2.08790496, 2.07163212, 2.0827749 , 2.05548775, 2.09668799,\n",
       "        2.05937304, 2.06330894, 2.08989151, 2.07438019, 2.08844791,\n",
       "        2.06980034, 2.06364694, 2.05186173, 2.08366475, 2.07147822,\n",
       "        2.07258696, 2.08049286, 2.05297016, 2.06579057, 2.08863611,\n",
       "        2.08482165, 2.05626661, 2.05650757, 2.05461762, 2.05039101,\n",
       "        2.12115547, 2.13277866, 2.13614613, 2.12656046, 2.1054409 ,\n",
       "        2.13158832, 2.10632499, 2.10671517, 2.1049297 , 2.10710136,\n",
       "        2.10841256, 2.10981245, 2.11587399, 2.11582145, 2.11087817,\n",
       "        2.11255209, 2.14464612, 2.13516116, 2.1277869 , 2.10922168,\n",
       "        2.11060154, 2.10386734, 2.14569002, 2.13533576, 2.12788945,\n",
       "        2.11567145, 2.10831018, 2.13112486, 2.14939674, 2.1085216 ,\n",
       "        2.11288961, 2.11983997, 2.10369974, 2.1342048 , 2.12011942,\n",
       "        2.14914176, 2.1201092 , 2.1310336 , 2.10771849, 2.11906726,\n",
       "        2.1080567 , 2.13790562, 2.14355556, 2.11753884, 2.13427679,\n",
       "        2.11470743, 2.12653147, 2.14162117, 2.12987451, 2.11676557,\n",
       "        2.11496125, 2.12262963, 2.12113228, 2.11798032, 2.12791596,\n",
       "        2.13712727, 2.12121674, 2.12146779, 2.10624364, 2.1012217 ,\n",
       "        2.11450926, 2.11587603, 2.13268451, 2.1478468 , 2.14678654,\n",
       "        2.12289432, 2.11202392, 2.1381949 , 2.13796637, 2.1370324 ,\n",
       "        2.13718442, 2.10529602, 2.13407802, 2.12316303, 2.11060816,\n",
       "        2.10492594, 2.14117872, 2.10875049, 2.1081785 , 2.13329936,\n",
       "        2.14471947, 2.12582791, 2.13513512, 2.10767952, 2.14767285,\n",
       "        2.1270442 , 2.13398669, 2.15182815, 2.19046019, 2.18743094,\n",
       "        2.15600935, 2.17625226, 2.16629168, 2.17732247, 2.16994404,\n",
       "        2.17075467, 2.15903689, 2.16276934, 2.15102679, 2.19618378,\n",
       "        2.18268499, 2.19663068, 2.15817562, 2.19605486, 2.18973289,\n",
       "        2.17886971, 2.17200178, 2.16288069, 2.18759732, 2.16143347,\n",
       "        2.15320935, 2.18836648, 2.18356011, 2.18576063, 2.18210304,\n",
       "        2.17095241, 2.1695381 , 2.19080701, 2.16587139, 2.19072699,\n",
       "        2.18945368, 2.19261319, 2.17528183, 2.18178307, 2.19754472,\n",
       "        2.17219821, 2.15300094, 2.19333749, 2.18155944, 2.16775368,\n",
       "        2.19985016, 2.16120857, 2.18262255, 2.18024953, 2.16936227,\n",
       "        2.15710936, 2.15125675, 2.17105561, 2.15920501, 2.18628876,\n",
       "        2.16851813, 2.192078  , 2.18671148, 2.17855129, 2.15884275,\n",
       "        2.1978692 , 2.1632661 , 2.19622904, 2.16118852, 2.16867819,\n",
       "        2.15437502, 2.18200583, 2.15903084, 2.15225256, 2.18615867,\n",
       "        2.16737188, 2.18303084, 2.16919343, 2.18136733, 2.15108249,\n",
       "        2.1955285 , 2.19002793, 2.18729237, 2.19065564, 2.16916532,\n",
       "        2.18086396, 2.17877474, 2.17650259, 2.16375349, 2.16243145,\n",
       "        2.17258194, 2.16138564, 2.19022248, 2.19930521, 2.1514996 ,\n",
       "        2.17678321, 2.15435386, 2.19010457, 2.19945725, 2.15334731,\n",
       "        2.19696992, 2.20090888, 2.23419193, 2.23918682, 2.22670688,\n",
       "        2.24426797, 2.24495024, 2.23129688, 2.20689345, 2.21089008,\n",
       "        2.20910705, 2.20209099, 2.20534708, 2.23082217, 2.24698305,\n",
       "        2.21772279, 2.22053145, 2.24921747, 2.24727896, 2.23383223,\n",
       "        2.24941511, 2.23834157, 2.21683496, 2.23311909, 2.21220826,\n",
       "        2.21477536, 2.23400892, 2.22639234, 2.22057968, 2.23013191,\n",
       "        2.237526  , 2.22917666, 2.22758963, 2.22917853, 2.225591  ,\n",
       "        2.20412964, 2.23597851, 2.24980781, 2.21772672, 2.24856294,\n",
       "        2.21732244, 2.24432719, 2.22273474, 2.22067136, 2.2108866 ,\n",
       "        2.20628273, 2.21544573, 2.23630522, 2.2391436 , 2.23468938,\n",
       "        2.20049011, 2.24216067, 2.2461166 , 2.23854771, 2.20213299,\n",
       "        2.21890931, 2.23521698, 2.23647565, 2.21121385, 2.21345274,\n",
       "        2.23365156, 2.22387461, 2.23118582, 2.21182225, 2.20885619,\n",
       "        2.24148217, 2.23834608, 2.24672391, 2.20539445, 2.20911138,\n",
       "        2.20495476, 2.22448819, 2.20966227, 2.24479458, 2.20495448,\n",
       "        2.20220828, 2.22786476, 2.23862475, 2.215597  , 2.20894912,\n",
       "        2.21694778, 2.21050728, 2.22550763, 2.24531822, 2.2314462 ,\n",
       "        2.20507669, 2.21954274, 2.20273083, 2.22506415, 2.22158606,\n",
       "        2.24987802, 2.24058013, 2.22428258, 2.24472239, 2.20687733,\n",
       "        2.21950025, 2.24636781, 2.24587469, 2.2356787 , 2.23091687,\n",
       "        2.21716439, 2.24680137, 2.2062387 , 2.23652927, 2.23232387,\n",
       "        2.2916576 , 2.26991411, 2.28749111, 2.29176103, 2.26612302,\n",
       "        2.27761308, 2.29895646, 2.27746543, 2.26652118, 2.28097358,\n",
       "        2.26803183, 2.28782548, 2.27069504, 2.27461726, 2.28473716,\n",
       "        2.29863669, 2.26638775, 2.29189016, 2.28695361, 2.29770872,\n",
       "        2.25159613, 2.26784345, 2.28313269, 2.26407508, 2.26151915,\n",
       "        2.28555643, 2.28122865, 2.27953043, 2.2830219 , 2.25237773,\n",
       "        2.26743924, 2.27256703, 2.26204525, 2.28575225, 2.29280911,\n",
       "        2.26407538, 2.28655254, 2.25688814, 2.29183614, 2.25693009,\n",
       "        2.27941047, 2.26830784, 2.29033798, 2.27518904, 2.27447972,\n",
       "        2.29385244, 2.26765709, 2.27247218, 2.29817651, 2.25211489,\n",
       "        2.29864792, 2.25946034, 2.28335602, 2.27932198, 2.28375562,\n",
       "        2.2680511 , 2.28101392, 2.29055754, 2.25096287, 2.25419368,\n",
       "        2.29874008, 2.28256748, 2.26156189, 2.27017456, 2.25610103,\n",
       "        2.26342194, 2.26289231, 2.26658326, 2.2576117 , 2.26740038,\n",
       "        2.25608292, 2.29420765, 2.25471392, 2.29650203, 2.269951  ,\n",
       "        2.25237007, 2.26711868, 2.28679831, 2.28973411, 2.27724529,\n",
       "        2.28431117, 2.29468163, 2.25273959, 2.26518307, 2.25230958,\n",
       "        2.25977384, 2.28600829, 2.28608766, 2.29388995, 2.27912165,\n",
       "        2.25353422, 2.29613723, 2.3400186 , 2.31429734, 2.32718316,\n",
       "        2.34923881, 2.3357839 , 2.34194848, 2.32166303, 2.32353124,\n",
       "        2.32803567, 2.31345458, 2.33745092, 2.32519439, 2.33234048,\n",
       "        2.31538728, 2.30693623, 2.32377865, 2.31812296, 2.33940567,\n",
       "        2.33901479, 2.33342561, 2.30667519, 2.30107779, 2.32799204,\n",
       "        2.31504095, 2.34697049, 2.34904518, 2.31433102, 2.34004101,\n",
       "        2.34480557, 2.32987633, 2.34420084, 2.34718658, 2.3274579 ,\n",
       "        2.33641934, 2.32883791, 2.30129287, 2.32232655, 2.3323151 ,\n",
       "        2.32606015, 2.31861563, 2.34685673, 2.34147664, 2.34245427,\n",
       "        2.31862671, 2.32965923, 2.34362763, 2.34667508, 2.33342321,\n",
       "        2.31033882, 2.33269253, 2.30360258, 2.32033635, 2.33334658,\n",
       "        2.34668628, 2.3405475 , 2.32422741, 2.33783746, 2.37085237,\n",
       "        2.3985893 , 2.39939874, 2.39320738, 2.36944419, 2.37273709,\n",
       "        2.36233436, 2.38922115, 2.39414188, 2.39568558, 2.37791425,\n",
       "        2.37994341, 2.35744384, 2.39498567, 2.37251968, 2.36028362,\n",
       "        2.39498255, 2.38812928, 2.39412432, 2.36424751, 2.3836613 ,\n",
       "        2.383214  , 2.35614075, 2.37036592, 2.36376435, 2.38583349,\n",
       "        2.36416922, 2.39480994, 2.39132894, 2.36950133, 2.37489515,\n",
       "        2.38474026, 2.39171845, 2.38048148, 2.37873686, 2.36630211,\n",
       "        2.37282123, 2.38568978, 2.39422025, 2.38604278, 2.35093064,\n",
       "        2.38373882, 2.37192544, 2.37189101, 2.40585184, 2.44073408,\n",
       "        2.41624277, 2.41231141, 2.41713566, 2.41878461, 2.42732769,\n",
       "        2.42809601, 2.41979111, 2.41990654, 2.42576836, 2.43287653,\n",
       "        2.44754576, 2.43611743, 2.42000399, 2.44159357, 2.40671692,\n",
       "        2.40302334, 2.40421235, 2.40819492, 2.416211  , 2.41508634,\n",
       "        2.40058405, 2.42699525, 2.40476863, 2.40732574, 2.43155706,\n",
       "        2.44296602, 2.49871108, 2.47854192, 2.49984251, 2.47767708,\n",
       "        2.47577292, 2.4665341 , 2.47150009, 2.47459031, 2.45355185,\n",
       "        2.49438696, 2.45323168, 2.47180925, 2.49133148, 2.46972673,\n",
       "        2.48067374, 2.49093204, 2.49431175, 2.49655558, 2.45953923,\n",
       "        2.46292911, 2.49489328, 2.47966809, 2.475192  , 2.48064048,\n",
       "        2.49097111, 2.47659446, 2.51010375, 2.52269467, 2.52139555,\n",
       "        2.54830264, 2.53100275, 2.5347695 , 2.53600823, 2.51734476,\n",
       "        2.52584952, 2.52783473, 2.50782476, 2.5281028 , 2.53474016]),\n",
       " 670)"
      ]
     },
     "execution_count": 21,
     "metadata": {},
     "output_type": "execute_result"
    }
   ],
   "source": [
    "x = np.array(sr.flights)\n",
    "n = len(x)\n",
    "x, n"
   ]
  }
 ],
 "metadata": {
  "kernelspec": {
   "display_name": "Python 3",
   "language": "python",
   "name": "python3"
  },
  "language_info": {
   "codemirror_mode": {
    "name": "ipython",
    "version": 3
   },
   "file_extension": ".py",
   "mimetype": "text/x-python",
   "name": "python",
   "nbconvert_exporter": "python",
   "pygments_lexer": "ipython3",
   "version": "3.11.4"
  }
 },
 "nbformat": 4,
 "nbformat_minor": 5
}
